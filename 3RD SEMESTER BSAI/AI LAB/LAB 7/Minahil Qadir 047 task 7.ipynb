{
 "cells": [
  {
   "cell_type": "code",
   "execution_count": 1,
   "metadata": {},
   "outputs": [],
   "source": [
    "class Node:\n",
    "    def __init__(self, name):\n",
    "        self.name = name\n",
    "        self.connections = []  \n",
    "\n",
    "def find_lowest_cost_node(open_list, cost_from_start, estimated_cost):\n",
    "    best_node = open_list[0]\n",
    "    for node in open_list:\n",
    "        if cost_from_start[node] + estimated_cost[node] < cost_from_start[best_node] + estimated_cost[best_node]:\n",
    "            best_node = node\n",
    "    return best_node\n",
    "\n",
    "def a_star(start, goal, estimated_cost):\n",
    "    to_explore = [start]  \n",
    "    came_from = {}  \n",
    "    cost_from_start = {start: 0}  \n",
    "\n",
    "    while to_explore:\n",
    "        current_node = find_lowest_cost_node(to_explore, cost_from_start, estimated_cost)\n",
    "        to_explore.remove(current_node)  \n",
    "\n",
    "        if current_node == goal:\n",
    "            path = []\n",
    "            while current_node in came_from:\n",
    "                path.append(current_node.name)\n",
    "                current_node = came_from[current_node]\n",
    "            path.append(start.name)\n",
    "            return path[::-1]  \n",
    "\n",
    "        for neighbor, move_cost in current_node.connections:\n",
    "            new_cost = cost_from_start[current_node] + move_cost\n",
    "            if neighbor not in cost_from_start or new_cost < cost_from_start[neighbor]:\n",
    "                cost_from_start[neighbor] = new_cost\n",
    "                to_explore.append(neighbor)\n",
    "                came_from[neighbor] = current_node  \n",
    "\n",
    "    return None  "
   ]
  },
  {
   "cell_type": "code",
   "execution_count": 4,
   "metadata": {},
   "outputs": [],
   "source": [
    "A = Node('A')\n",
    "B = Node('B')\n",
    "C = Node('C')\n",
    "\n",
    "A.connections = [(B, 1), (C, 3)]\n",
    "B.connections = [(C, 1)]\n",
    "\n",
    "estimated_cost = {A: 2, B: 1, C: 0}  "
   ]
  },
  {
   "cell_type": "code",
   "execution_count": 5,
   "metadata": {},
   "outputs": [
    {
     "name": "stdout",
     "output_type": "stream",
     "text": [
      "Shortest Path: ['A', 'B', 'C']\n"
     ]
    }
   ],
   "source": [
    "shortest_path = a_star(A, C, estimated_cost)\n",
    "print(\"Shortest Path:\", shortest_path)"
   ]
  }
 ],
 "metadata": {
  "kernelspec": {
   "display_name": "base",
   "language": "python",
   "name": "python3"
  },
  "language_info": {
   "codemirror_mode": {
    "name": "ipython",
    "version": 3
   },
   "file_extension": ".py",
   "mimetype": "text/x-python",
   "name": "python",
   "nbconvert_exporter": "python",
   "pygments_lexer": "ipython3",
   "version": "3.11.7"
  }
 },
 "nbformat": 4,
 "nbformat_minor": 2
}
