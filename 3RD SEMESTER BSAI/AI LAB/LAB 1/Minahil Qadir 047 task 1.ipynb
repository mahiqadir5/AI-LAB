{
 "cells": [
  {
   "cell_type": "code",
   "execution_count": 1,
   "metadata": {},
   "outputs": [
    {
     "name": "stdout",
     "output_type": "stream",
     "text": [
      "Options:\n",
      "1. Add Task\n",
      "2. View To-Do List\n",
      "3. Remove Task\n",
      "4. Quit\n",
      "Invalid option. Please choose between 1-4.\n",
      "Options:\n",
      "1. Add Task\n",
      "2. View To-Do List\n",
      "3. Remove Task\n",
      "4. Quit\n",
      "enter task :milk\n",
      "Options:\n",
      "1. Add Task\n",
      "2. View To-Do List\n",
      "3. Remove Task\n",
      "4. Quit\n",
      "To-Do List: ['milk']\n",
      "Options:\n",
      "1. Add Task\n",
      "2. View To-Do List\n",
      "3. Remove Task\n",
      "4. Quit\n",
      "enter task :choclate\n",
      "Options:\n",
      "1. Add Task\n",
      "2. View To-Do List\n",
      "3. Remove Task\n",
      "4. Quit\n",
      "To-Do List: ['milk', 'choclate']\n",
      "Options:\n",
      "1. Add Task\n",
      "2. View To-Do List\n",
      "3. Remove Task\n",
      "4. Quit\n",
      "remove task:milk\n",
      "Options:\n",
      "1. Add Task\n",
      "2. View To-Do List\n",
      "3. Remove Task\n",
      "4. Quit\n",
      "To-Do List: ['choclate']\n",
      "Options:\n",
      "1. Add Task\n",
      "2. View To-Do List\n",
      "3. Remove Task\n",
      "4. Quit\n"
     ]
    }
   ],
   "source": [
    "todo_list = []\n",
    "\n",
    "while True:\n",
    "    print(\"Options:\")\n",
    "    print(\"1. Add Task\")\n",
    "    print(\"2. View To-Do List\")\n",
    "    print(\"3. Remove Task\")\n",
    "    print(\"4. Quit\")\n",
    "    \n",
    "    choice = input(\"Choose an option (1-4): \")\n",
    "    \n",
    "    if choice == \"1\":\n",
    "        task = input(\"Enter task: \")\n",
    "        todo_list.append(task)\n",
    "        print(f\"enter task :{task}\")\n",
    "    elif choice == \"2\":\n",
    "        print(\"To-Do List:\", todo_list)\n",
    "    \n",
    "    elif choice == \"3\":\n",
    "        task = input(\"Enter task to remove: \")\n",
    "        if task in todo_list:\n",
    "            todo_list.remove(task)\n",
    "            print(f\"remove task:{task}\")\n",
    "    \n",
    "    elif choice == \"4\":\n",
    "        break\n",
    "    \n",
    "    else:\n",
    "        print(\"Invalid option. Please choose between 1-4.\")"
   ]
  }
 ],
 "metadata": {
  "kernelspec": {
   "display_name": "base",
   "language": "python",
   "name": "python3"
  },
  "language_info": {
   "codemirror_mode": {
    "name": "ipython",
    "version": 3
   },
   "file_extension": ".py",
   "mimetype": "text/x-python",
   "name": "python",
   "nbconvert_exporter": "python",
   "pygments_lexer": "ipython3",
   "version": "3.11.7"
  }
 },
 "nbformat": 4,
 "nbformat_minor": 2
}
