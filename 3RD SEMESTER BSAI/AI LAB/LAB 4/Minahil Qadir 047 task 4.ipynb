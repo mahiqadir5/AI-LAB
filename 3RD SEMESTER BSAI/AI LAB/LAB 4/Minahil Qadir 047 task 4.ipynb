{
 "cells": [
  {
   "cell_type": "code",
   "execution_count": 3,
   "metadata": {},
   "outputs": [],
   "source": [
    "def luhn(card):\n",
    "    total = 0\n",
    "    double = False  \n",
    "\n",
    "    for digit in reversed(card):\n",
    "        num = int(digit)\n",
    "        if double:  \n",
    "            num *= 2\n",
    "            if num > 9:\n",
    "                num -= 9  \n",
    "        total += num\n",
    "        double = False if double else True  \n",
    "\n",
    "    return total % 10 == 0 "
   ]
  },
  {
   "cell_type": "code",
   "execution_count": 4,
   "metadata": {},
   "outputs": [
    {
     "name": "stdout",
     "output_type": "stream",
     "text": [
      "Invalid \n"
     ]
    }
   ],
   "source": [
    "card = input(\"Enter card number: \")\n",
    "print(\"Valid \" \n",
    "      if luhn(card) \n",
    "      else \"Invalid \")"
   ]
  },
  {
   "cell_type": "code",
   "execution_count": 5,
   "metadata": {},
   "outputs": [
    {
     "name": "stdout",
     "output_type": "stream",
     "text": [
      "Cleaned string: minahil qadir 047\n"
     ]
    }
   ],
   "source": [
    "text = input(\"Enter a string: \")  \n",
    "clean_text = \"\"  \n",
    "\n",
    "for char in text:  \n",
    "    if char.isalnum() or char == \" \":\n",
    "        clean_text += char  \n",
    "\n",
    "print(\"Cleaned string:\", clean_text)\n"
   ]
  },
  {
   "cell_type": "code",
   "execution_count": 7,
   "metadata": {},
   "outputs": [
    {
     "name": "stdout",
     "output_type": "stream",
     "text": [
      "Sentence: {'my name is minahil'}\n",
      "Sorted sentence: is minahil my name\n"
     ]
    }
   ],
   "source": [
    "sentence = input(\"Enter a sentence: \")\n",
    "words = sentence.split()  \n",
    "words.sort()  \n",
    "print(\"Sentence:\",{sentence})\n",
    "print(\"Sorted sentence:\", \" \".join(words)) "
   ]
  }
 ],
 "metadata": {
  "kernelspec": {
   "display_name": "base",
   "language": "python",
   "name": "python3"
  },
  "language_info": {
   "codemirror_mode": {
    "name": "ipython",
    "version": 3
   },
   "file_extension": ".py",
   "mimetype": "text/x-python",
   "name": "python",
   "nbconvert_exporter": "python",
   "pygments_lexer": "ipython3",
   "version": "3.11.7"
  }
 },
 "nbformat": 4,
 "nbformat_minor": 2
}
