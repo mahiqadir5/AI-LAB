{
 "cells": [
  {
   "cell_type": "code",
   "execution_count": 2,
   "metadata": {},
   "outputs": [],
   "source": [
    "class TemperatureAgent:\n",
    "    def __init__(self):\n",
    "        self.heater_on = False  \n",
    "        self.threshold = int(input(\"Enter the desired temperature: \"))  \n",
    "\n",
    "    def perceive_and_act(self, current_temp):\n",
    "        if current_temp < self.threshold and not self.heater_on:\n",
    "            self.heater_on = True\n",
    "            return \"Turning Heater ON\"\n",
    "        elif current_temp >= self.threshold and self.heater_on:\n",
    "            self.heater_on = False\n",
    "            return \"Turning Heater OFF\"\n",
    "        else:\n",
    "            return \"No action needed\"  "
   ]
  },
  {
   "cell_type": "code",
   "execution_count": 3,
   "metadata": {},
   "outputs": [],
   "source": [
    "agent = TemperatureAgent()\n",
    "temperatures = [22, 20, 22, 23, 14]  "
   ]
  },
  {
   "cell_type": "code",
   "execution_count": 4,
   "metadata": {},
   "outputs": [
    {
     "name": "stdout",
     "output_type": "stream",
     "text": [
      "Temperature: 22°C → Turning Heater ON\n",
      "Temperature: 20°C → No action needed\n",
      "Temperature: 22°C → No action needed\n",
      "Temperature: 23°C → Turning Heater OFF\n",
      "Temperature: 14°C → Turning Heater ON\n"
     ]
    }
   ],
   "source": [
    "for temp in temperatures:\n",
    "    action = agent.perceive_and_act(temp)\n",
    "    print(f\"Temperature: {temp}°C → {action}\")"
   ]
  }
 ],
 "metadata": {
  "kernelspec": {
   "display_name": "base",
   "language": "python",
   "name": "python3"
  },
  "language_info": {
   "codemirror_mode": {
    "name": "ipython",
    "version": 3
   },
   "file_extension": ".py",
   "mimetype": "text/x-python",
   "name": "python",
   "nbconvert_exporter": "python",
   "pygments_lexer": "ipython3",
   "version": "3.11.7"
  }
 },
 "nbformat": 4,
 "nbformat_minor": 2
}
