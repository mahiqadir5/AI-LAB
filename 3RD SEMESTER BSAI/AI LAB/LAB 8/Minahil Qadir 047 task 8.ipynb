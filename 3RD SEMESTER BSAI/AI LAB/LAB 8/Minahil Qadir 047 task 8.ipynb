{
 "cells": [
  {
   "cell_type": "code",
   "execution_count": null,
   "metadata": {},
   "outputs": [],
   "source": [
    "#question 1"
   ]
  },
  {
   "cell_type": "code",
   "execution_count": 1,
   "metadata": {},
   "outputs": [],
   "source": [
    "def minmax(depth, node_index, is_max, scores, height):\n",
    "    if depth == height:\n",
    "        return scores[node_index]\n",
    "    \n",
    "    if is_max:\n",
    "        return max(minmax(depth + 1, node_index * 2, False, scores, height),\n",
    "                   minmax(depth + 1, node_index * 2 + 1, False, scores, height))\n",
    "    else:\n",
    "        return min(minmax(depth + 1, node_index * 2, True, scores, height),\n",
    "                   minmax(depth + 1, node_index * 2 + 1, True, scores, height))"
   ]
  },
  {
   "cell_type": "code",
   "execution_count": 2,
   "metadata": {},
   "outputs": [],
   "source": [
    "scores = [3, 5, 2, 9, 12, 5, 23, 23]\n",
    "height = 0\n",
    "size = len(scores)\n",
    "while 2 ** height < size:\n",
    "    height += 1"
   ]
  },
  {
   "cell_type": "code",
   "execution_count": 3,
   "metadata": {},
   "outputs": [
    {
     "name": "stdout",
     "output_type": "stream",
     "text": [
      "Optimal value: 12\n"
     ]
    }
   ],
   "source": [
    "print(\"Optimal value:\", minmax(0, 0, True, scores, height))\n"
   ]
  }
 ],
 "metadata": {
  "kernelspec": {
   "display_name": "base",
   "language": "python",
   "name": "python3"
  },
  "language_info": {
   "codemirror_mode": {
    "name": "ipython",
    "version": 3
   },
   "file_extension": ".py",
   "mimetype": "text/x-python",
   "name": "python",
   "nbconvert_exporter": "python",
   "pygments_lexer": "ipython3",
   "version": "3.11.7"
  }
 },
 "nbformat": 4,
 "nbformat_minor": 2
}
