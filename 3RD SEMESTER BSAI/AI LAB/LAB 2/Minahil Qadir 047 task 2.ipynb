{
 "cells": [
  {
   "cell_type": "code",
   "execution_count": null,
   "metadata": {},
   "outputs": [],
   "source": [
    "#QUESTION NO 1"
   ]
  },
  {
   "cell_type": "code",
   "execution_count": 10,
   "metadata": {},
   "outputs": [],
   "source": [
    "import random\n",
    "\n",
    "def fizz_buzz(number):\n",
    "    if number % 3 == 0 and number % 5 == 0:\n",
    "        return \"FizzBuzz\"\n",
    "    elif number % 3 == 0:\n",
    "        return \"Fizz\"\n",
    "    elif number % 5 == 0:\n",
    "        return \"Buzz\"\n",
    "    else:\n",
    "        return str(number)\n",
    "\n",
    "def play_fizz_buzz():\n",
    "    print(\"Welcome to the FizzBuzz game!\")\n",
    "    print(\"The game will go up to 10.\")\n",
    "\n",
    "    for _ in range(10):  \n",
    "        number = random.randint(1, 1000)  \n",
    "        human_input = input(f\"What's the correct output for number {number}? \")\n",
    "\n",
    "        answer = fizz_buzz(number)\n",
    "\n",
    "        if human_input.lower() != answer.lower():  \n",
    "            print(f\"Wrong... The correct answer for {number} is: {answer}.\")\n",
    "            print(\"You lost! The computer wins\")\n",
    "            break\n",
    "        \n",
    "        print(f\"Computer says: {answer}\")\n",
    "\n",
    "    else:  \n",
    "        print(\"You won... Congratulations!\")"
   ]
  },
  {
   "cell_type": "code",
   "execution_count": 9,
   "metadata": {},
   "outputs": [
    {
     "name": "stdout",
     "output_type": "stream",
     "text": [
      "Welcome to the FizzBuzz game!\n",
      "You need to get 10 correct answers to win.\n",
      "Correct! Computer says: Fizz\n",
      "Wrong! The correct answer for 656 is: 656.\n",
      "Game over! The computer wins.\n"
     ]
    }
   ],
   "source": [
    "play_fizz_buzz()"
   ]
  },
  {
   "cell_type": "code",
   "execution_count": null,
   "metadata": {},
   "outputs": [],
   "source": [
    "# question no 2"
   ]
  },
  {
   "cell_type": "code",
   "execution_count": 33,
   "metadata": {},
   "outputs": [],
   "source": [
    "movies = [\n",
    "    (\"Eternal Sunshine of the Spotless Mind\", 20000000),\n",
    "    (\"Memento\", 9000000),\n",
    "    (\"Requiem for a Dream\", 4500000),\n",
    "    (\"Pirates of the Caribbean: On Stranger Tides\", 379000000),\n",
    "    (\"Avengers: Age of Ultron\", 365000000),\n",
    "    (\"Avengers: Endgame\", 356000000),\n",
    "    (\"Incredibles 2\", 200000000)\n",
    "]\n",
    "\n",
    "def get_average_budget():\n",
    "    total_budget = 0\n",
    "    for movie in movies:\n",
    "        total_budget += movie[1]\n",
    "    return total_budget / len(movies)\n",
    "\n",
    "def show_high_budget_movies(average_budget):\n",
    "    count = 0\n",
    "    for movie in movies:\n",
    "        if movie[1] > average_budget:\n",
    "            print(f\"{movie[0]}: ${movie[1]} (Higher by ${movie[1] - average_budget})\")\n",
    "            count += 1\n",
    "    print(f\"\\nTotal movies with higher than average budgets: {count}\")\n",
    "\n",
    "def add_movies():\n",
    "    num_movies = int(input(\"How many movies would you like to add? \"))\n",
    "    for i in range(num_movies):\n",
    "        name = input(\"Enter the movie name: \")\n",
    "        budget = int(input(f\"Enter the budget for {name} \"))\n",
    "        movies.append((name, budget))"
   ]
  },
  {
   "cell_type": "code",
   "execution_count": null,
   "metadata": {},
   "outputs": [],
   "source": [
    "add_movies()"
   ]
  },
  {
   "cell_type": "code",
   "execution_count": 35,
   "metadata": {},
   "outputs": [],
   "source": [
    "average_budget = get_average_budget()"
   ]
  },
  {
   "cell_type": "code",
   "execution_count": 36,
   "metadata": {},
   "outputs": [
    {
     "name": "stdout",
     "output_type": "stream",
     "text": [
      "\n",
      "Average budget of movies: $1112687500.0\n",
      "the night has come: $7568000000 (Higher by $6455312500.0)\n",
      "\n",
      "Total movies with higher than average budgets: 1\n"
     ]
    }
   ],
   "source": [
    "print(f\"Average budget of movies: ${average_budget}\")\n",
    "show_high_budget_movies(average_budget)"
   ]
  }
 ],
 "metadata": {
  "kernelspec": {
   "display_name": "base",
   "language": "python",
   "name": "python3"
  },
  "language_info": {
   "codemirror_mode": {
    "name": "ipython",
    "version": 3
   },
   "file_extension": ".py",
   "mimetype": "text/x-python",
   "name": "python",
   "nbconvert_exporter": "python",
   "pygments_lexer": "ipython3",
   "version": "3.11.7"
  }
 },
 "nbformat": 4,
 "nbformat_minor": 2
}
