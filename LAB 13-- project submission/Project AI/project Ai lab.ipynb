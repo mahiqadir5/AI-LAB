{
 "cells": [
  {
   "cell_type": "code",
   "execution_count": null,
   "id": "73be36c8",
   "metadata": {},
   "outputs": [],
   "source": [
    "import pandas as pd\n",
    "import numpy as np\n",
    "from sklearn.preprocessing import LabelEncoder\n",
    "from sklearn.model_selection import train_test_split"
   ]
  },
  {
   "cell_type": "markdown",
   "id": "8bdf851b",
   "metadata": {},
   "source": [
    "DATA LOADING "
   ]
  },
  {
   "cell_type": "code",
   "execution_count": null,
   "id": "1a911cbc",
   "metadata": {},
   "outputs": [
    {
     "data": {
      "application/vnd.microsoft.datawrangler.viewer.v0+json": {
       "columns": [
        {
         "name": "index",
         "rawType": "int64",
         "type": "integer"
        },
        {
         "name": "Song",
         "rawType": "object",
         "type": "string"
        },
        {
         "name": "Artist",
         "rawType": "object",
         "type": "string"
        },
        {
         "name": "Streams",
         "rawType": "int64",
         "type": "integer"
        },
        {
         "name": "Daily Streams",
         "rawType": "int64",
         "type": "integer"
        },
        {
         "name": "Genre",
         "rawType": "object",
         "type": "string"
        },
        {
         "name": "Release Year",
         "rawType": "int64",
         "type": "integer"
        },
        {
         "name": "Peak Position",
         "rawType": "int64",
         "type": "integer"
        },
        {
         "name": "Weeks on Chart",
         "rawType": "float64",
         "type": "float"
        },
        {
         "name": "Lyrics Sentiment",
         "rawType": "object",
         "type": "string"
        },
        {
         "name": "TikTok Virality",
         "rawType": "float64",
         "type": "float"
        },
        {
         "name": "Danceability",
         "rawType": "float64",
         "type": "float"
        },
        {
         "name": "Acousticness",
         "rawType": "float64",
         "type": "float"
        },
        {
         "name": "Energy",
         "rawType": "float64",
         "type": "float"
        }
       ],
       "conversionMethod": "pd.DataFrame",
       "ref": "c998ec52-b77a-4d19-a0a3-c58a4fe2ac48",
       "rows": [
        [
         "0",
         "Track 14728",
         "Jungkook",
         "410000000",
         "550000",
         "Pop",
         "2023",
         "11",
         "110.0",
         "Flirty",
         "77.0",
         "0.77",
         "0.22",
         "0.76"
        ],
        [
         "1",
         "Track 21319",
         "Jungkook",
         "370000000",
         "520000",
         "Pop/Ballad",
         "2023",
         "13",
         "100.0",
         "Bittersweet",
         "98.0",
         "0.58",
         "0.3",
         "0.6"
        ],
        [
         "2",
         "Track 21324",
         "RM",
         "300000000",
         "370000",
         "Alt/Hip-Hop",
         "2024",
         "15",
         "40.0",
         "Honest",
         "65.0",
         "0.65",
         "0.35",
         "0.6"
        ],
        [
         "3",
         "Track 21325",
         "J-Hopeft.J.Cole",
         "720000000",
         "950000",
         "Hip-Hop",
         "2023",
         "5",
         "24.0",
         "Gratitude",
         "73.0",
         "0.78",
         "0.22",
         "0.75"
        ],
        [
         "4",
         "Track 21326",
         "Jimin",
         "680000000",
         "800000",
         "Experimental",
         "2023",
         "3",
         "77.0",
         "Intense",
         "49.0",
         "0.82",
         "0.14",
         "0.88"
        ],
        [
         "5",
         "Track 21327",
         "Jungkook",
         "850000000",
         "1200000",
         "Pop",
         "2023",
         "1",
         "20.0",
         "Passionate",
         "33.0",
         "0.82",
         "0.26",
         "0.8"
        ],
        [
         "6",
         "Track 21328",
         "J-Hope",
         "500000000",
         "700000",
         "Hip-Hop",
         "2023",
         "6",
         "80.0",
         "Uplifting",
         "56.0",
         "0.75",
         "0.28",
         "0.72"
        ],
        [
         "7",
         "Track 21329",
         "Jin",
         "320000000",
         "430000",
         "Ballad",
         "2024",
         "12",
         "14.0",
         "Emotional",
         "44.0",
         "0.6",
         "0.33",
         "0.55"
        ],
        [
         "8",
         "Track 21330",
         "V",
         "540000000",
         "680000",
         "Soul/Pop",
         "2024",
         "4",
         "49.0",
         "Soulful",
         "32.0",
         "0.78",
         "0.25",
         "0.74"
        ],
        [
         "9",
         "Track 21331",
         "Jungkook",
         "460000000",
         "600000",
         "Pop/Rock",
         "2023",
         "9",
         "50.0",
         "Energetic",
         "47.0",
         "0.8",
         "0.2",
         "0.82"
        ],
        [
         "10",
         "Track 21332",
         "RM",
         "530000000",
         "750000",
         "Experimental",
         "2024",
         "7",
         "64.0",
         "Inspirational",
         "65.0",
         "0.79",
         "0.32",
         "0.76"
        ],
        [
         "11",
         "Track 21333",
         "Suga",
         "610000000",
         "800000",
         "Hip-Hop",
         "2023",
         "3",
         "21.0",
         "confident",
         "62.0",
         "0.84",
         "0.29",
         null
        ],
        [
         "12",
         "Track 21334",
         "Jimin",
         "700000000",
         "950000",
         "Pop/Soul",
         "2023",
         "5",
         "29.0",
         "Passionate",
         "54.0",
         "0.81",
         "0.23",
         "0.79"
        ],
        [
         "13",
         "Track 21335",
         "Jungkookft.CharliePuth",
         "500000000",
         "700000",
         "Pop",
         "2023",
         "4",
         "16.0",
         "Duet",
         "25.0",
         "0.76",
         "0.22",
         "0.78"
        ],
        [
         "14",
         "Track 21336",
         "J-Hope",
         "560000000",
         "680000",
         "Hip-Hop/Pop",
         "2023",
         "10",
         "58.0",
         "Motivational",
         "45.0",
         "70.77",
         "0.24",
         "0.71"
        ],
        [
         "15",
         "Track 21337",
         "V",
         "400000000",
         "500000",
         "Indie/Pop",
         "2024",
         "8",
         "71.0",
         "Dreamy",
         "76.0",
         "0.68",
         "0.34",
         "0.61"
        ],
        [
         "16",
         "Track 21338",
         "RM",
         "450000000",
         "600000",
         "Experimental",
         "2023",
         "12",
         "35.0",
         "Deep",
         "67.0",
         "0.74",
         "0.27",
         "0.65"
        ],
        [
         "17",
         "Track 21339",
         "Jin",
         "500000000",
         "640000",
         "Pop/Acoustic",
         "2024",
         "10",
         "67.0",
         "Peaceful",
         "70.0",
         "0.8",
         "0.31",
         "0.74"
        ],
        [
         "18",
         "Track 21340",
         "Sugaft.IU",
         "690000000",
         "880000",
         "Pop/Rap",
         "2024",
         "5",
         "83.0",
         "Melancholic",
         "50.0",
         "0.76",
         "0.3",
         "0.69"
        ],
        [
         "19",
         "Track 16141",
         "Jimin",
         "450000000",
         "610000",
         "Pop/Soul",
         "2024",
         "8",
         "96.0",
         "Longing",
         "62.0",
         "0.73",
         "0.26",
         "0.66"
        ],
        [
         "20",
         "Track 22152",
         "Retro Resonance",
         "217316865",
         "1639915",
         "Reggae",
         "1992",
         "57",
         "12.0",
         "Passionate",
         "11.0",
         "0.43",
         "0.58",
         "0.2"
        ],
        [
         "21",
         "Track 80217",
         "Urban Rhapsody",
         "312747634",
         "3614532",
         "Pop",
         "2000",
         "21",
         "0.0",
         "Motivational",
         "44.0",
         "0.18",
         "0.04",
         "0.63"
        ],
        [
         "22",
         "Track 77204",
         "Sofia Carter",
         "726442597",
         "1028518",
         "Blues",
         "2001",
         "97",
         "9.0",
         "Passionate",
         "71.0",
         "0.82",
         "0.59",
         "0.61"
        ],
        [
         "23",
         "Track 70018",
         "ElectroPulse",
         "581795174",
         "3849348",
         "Latin",
         "2025",
         "76",
         "34.0",
         "Energetic",
         "15.0",
         "0.53",
         "0.17",
         "0.33"
        ],
        [
         "24",
         "Track 1413",
         "Firefly Symphony",
         "292322745",
         "4873492",
         "Synthwave",
         "1991",
         "70",
         "12.0",
         "Inspirational",
         "87.0",
         "0.0",
         "0.21",
         "0.25"
        ],
        [
         "25",
         "Track 53360",
         "Urban Rhapsody",
         "733665983",
         "1185813",
         "Techno",
         "2014",
         "9",
         "1.0",
         "Inspirational",
         "35.0",
         "0.56",
         "0.92",
         "0.46"
        ],
        [
         "26",
         "Track 78739",
         "V",
         "390000000",
         "490000",
         "R&B/Alt",
         "2023",
         "10",
         "11.0",
         "Hopeful",
         "56.0",
         "71.0",
         "0.27",
         "0.62"
        ],
        [
         "27",
         "Track 43458",
         "Neon Vortex",
         "228493924",
         "110812",
         "Pop",
         "2025",
         "16",
         "88.0",
         "Longing",
         "82.0",
         "0.15",
         "0.75",
         "0.0"
        ],
        [
         "28",
         "Track 66547",
         "Liam Harper",
         "95086731",
         "2960964",
         "Trap",
         "2022",
         "90",
         "97.0",
         "Dreamy",
         "66.0",
         "0.53",
         "0.56",
         "0.14"
        ],
        [
         "29",
         "Track 98770",
         "Neon Vortex",
         "371734936",
         "865902",
         "Pop",
         "1996",
         "55",
         "51.0",
         "Soulful",
         "56.0",
         "0.8",
         "0.66",
         "0.52"
        ],
        [
         "30",
         "Track 43875",
         "ElectroPulse",
         "2238439",
         "2917780",
         "Jazz",
         "2018",
         "55",
         "85.0",
         "Emotional",
         "16.0",
         "0.17",
         "0.37",
         "0.88"
        ],
        [
         "31",
         "Track 70264",
         "Jay Zenith",
         "230224645",
         "107907",
         "Punk",
         "2021",
         "48",
         "80.0",
         "Flirty",
         "25.0",
         "0.16",
         "0.37",
         "0.65"
        ],
        [
         "32",
         "Track 19163",
         "The Midnight Howl",
         "434852140",
         "4936043",
         "Rock",
         "2002",
         "86",
         "41.0",
         "Emotional",
         "12.0",
         "0.34",
         "0.13",
         "0.31"
        ],
        [
         "33",
         "Track 69222",
         "Shadow Beats",
         "587150414",
         "3680451",
         "Electronic",
         "2018",
         "25",
         "65.0",
         "Soulful",
         "73.0",
         "0.86",
         "1.0",
         "0.73"
        ],
        [
         "34",
         "Track 45786",
         "Firefly Symphony",
         "578292350",
         "295113",
         "Rock",
         "2013",
         "51",
         "52.0",
         "Emotional",
         "82.0",
         "0.39",
         "0.34",
         "0.5"
        ],
        [
         "35",
         "Track 72268",
         "Neon Vortex",
         "757434951",
         "1637124",
         "House",
         "2001",
         "35",
         "18.0",
         "Bittersweet",
         "77.0",
         "0.94",
         "0.35",
         "0.58"
        ],
        [
         "36",
         "Track 56939",
         "Samantha Lee",
         "722081056",
         "2944701",
         "Folk",
         "1992",
         "85",
         "32.0",
         "Emotional",
         "10.0",
         "0.43",
         "0.77",
         "0.58"
        ],
        [
         "37",
         "Track 46468",
         "Shadow Beats",
         "792469605",
         "190477",
         "Hip-Hop",
         "2021",
         "57",
         "58.0",
         "Intense",
         "54.0",
         "0.39",
         "0.35",
         "0.99"
        ],
        [
         "38",
         "Track 64801",
         "V",
         "620000000",
         "780000",
         "Retro Soul",
         "2023",
         "2",
         "15.0",
         "Romantic",
         "2.0",
         "0.85",
         "0.2",
         "0.68"
        ],
        [
         "39",
         "Track 76288",
         "Samantha Lee",
         "190201915",
         "2111566",
         "Rock",
         "2020",
         "51",
         "41.0",
         "Soulful",
         "38.0",
         "0.24",
         "0.7",
         "0.52"
        ],
        [
         "40",
         "Track 59106",
         "ElectroPulse",
         "577115131",
         "2095468",
         "Hip-Hop",
         "2007",
         "34",
         "60.0",
         "Inspirational",
         "47.0",
         "0.48",
         "0.99",
         "0.89"
        ],
        [
         "41",
         "Track 44313",
         "Aurora Soundwave",
         "308977444",
         "1684031",
         "Country",
         "2012",
         "35",
         "3.0",
         "Dreamy",
         "10.0",
         "0.84",
         "0.03",
         "0.35"
        ],
        [
         "42",
         "Track 12017",
         "DJ Thunder",
         "240456959",
         "1664114",
         "Country",
         "2023",
         "70",
         "35.0",
         "Deep",
         "4.0",
         "0.82",
         "0.01",
         "0.71"
        ],
        [
         "43",
         "Track 45367",
         "Neon Vortex",
         "134520428",
         "4795581",
         "Synthwave",
         "1994",
         "14",
         "49.0",
         "Longing",
         "47.0",
         "0.92",
         "0.92",
         "0.63"
        ],
        [
         "44",
         "Track 66425",
         "ElectroPulse",
         "530356705",
         "3623770",
         "Lo-Fi",
         "1990",
         "89",
         "50.0",
         "Longing",
         "78.0",
         "0.54",
         "0.37",
         "0.61"
        ],
        [
         "45",
         "Track 39884",
         "Jay Zenith",
         "657422901",
         "1580499",
         "Reggae",
         "2010",
         "18",
         "27.0",
         "Dreamy",
         "32.0",
         "0.33",
         "0.14",
         "0.78"
        ],
        [
         "46",
         "Track 36234",
         "Urban Rhapsody",
         "641699919",
         "4853080",
         "Pop",
         "2001",
         "56",
         "45.0",
         "Melancholic",
         "61.0",
         "0.4",
         "0.76",
         "0.98"
        ],
        [
         "47",
         "Track 97897",
         "Sofia Carter",
         "451921318",
         "938475",
         "Reggae",
         "1991",
         "72",
         "53.0",
         "Longing",
         "26.0",
         "0.76",
         "0.73",
         "1.0"
        ],
        [
         "48",
         "Track 49727",
         "Horizon Flow",
         "209005746",
         "3526352",
         "Metal",
         "2011",
         "85",
         "37.0",
         "Emotional",
         "70.0",
         "0.9",
         "0.12",
         "0.14"
        ],
        [
         "49",
         "Track 76145",
         "EchoSync",
         "721673826",
         "3012331",
         "Pop",
         "2003",
         "83",
         "2.0",
         "Soulful",
         "21.0",
         "0.39",
         "0.16",
         "0.83"
        ]
       ],
       "shape": {
        "columns": 13,
        "rows": 4850
       }
      },
      "text/html": [
       "<div>\n",
       "<style scoped>\n",
       "    .dataframe tbody tr th:only-of-type {\n",
       "        vertical-align: middle;\n",
       "    }\n",
       "\n",
       "    .dataframe tbody tr th {\n",
       "        vertical-align: top;\n",
       "    }\n",
       "\n",
       "    .dataframe thead th {\n",
       "        text-align: right;\n",
       "    }\n",
       "</style>\n",
       "<table border=\"1\" class=\"dataframe\">\n",
       "  <thead>\n",
       "    <tr style=\"text-align: right;\">\n",
       "      <th></th>\n",
       "      <th>Song</th>\n",
       "      <th>Artist</th>\n",
       "      <th>Streams</th>\n",
       "      <th>Daily Streams</th>\n",
       "      <th>Genre</th>\n",
       "      <th>Release Year</th>\n",
       "      <th>Peak Position</th>\n",
       "      <th>Weeks on Chart</th>\n",
       "      <th>Lyrics Sentiment</th>\n",
       "      <th>TikTok Virality</th>\n",
       "      <th>Danceability</th>\n",
       "      <th>Acousticness</th>\n",
       "      <th>Energy</th>\n",
       "    </tr>\n",
       "  </thead>\n",
       "  <tbody>\n",
       "    <tr>\n",
       "      <th>0</th>\n",
       "      <td>Track 14728</td>\n",
       "      <td>Jungkook</td>\n",
       "      <td>410000000</td>\n",
       "      <td>550000</td>\n",
       "      <td>Pop</td>\n",
       "      <td>2023</td>\n",
       "      <td>11</td>\n",
       "      <td>110.0</td>\n",
       "      <td>Flirty</td>\n",
       "      <td>77.0</td>\n",
       "      <td>0.77</td>\n",
       "      <td>0.22</td>\n",
       "      <td>0.76</td>\n",
       "    </tr>\n",
       "    <tr>\n",
       "      <th>1</th>\n",
       "      <td>Track 21319</td>\n",
       "      <td>Jungkook</td>\n",
       "      <td>370000000</td>\n",
       "      <td>520000</td>\n",
       "      <td>Pop/Ballad</td>\n",
       "      <td>2023</td>\n",
       "      <td>13</td>\n",
       "      <td>100.0</td>\n",
       "      <td>Bittersweet</td>\n",
       "      <td>98.0</td>\n",
       "      <td>0.58</td>\n",
       "      <td>0.30</td>\n",
       "      <td>0.60</td>\n",
       "    </tr>\n",
       "    <tr>\n",
       "      <th>2</th>\n",
       "      <td>Track 21324</td>\n",
       "      <td>RM</td>\n",
       "      <td>300000000</td>\n",
       "      <td>370000</td>\n",
       "      <td>Alt/Hip-Hop</td>\n",
       "      <td>2024</td>\n",
       "      <td>15</td>\n",
       "      <td>40.0</td>\n",
       "      <td>Honest</td>\n",
       "      <td>65.0</td>\n",
       "      <td>0.65</td>\n",
       "      <td>0.35</td>\n",
       "      <td>0.60</td>\n",
       "    </tr>\n",
       "    <tr>\n",
       "      <th>3</th>\n",
       "      <td>Track 21325</td>\n",
       "      <td>J-Hopeft.J.Cole</td>\n",
       "      <td>720000000</td>\n",
       "      <td>950000</td>\n",
       "      <td>Hip-Hop</td>\n",
       "      <td>2023</td>\n",
       "      <td>5</td>\n",
       "      <td>24.0</td>\n",
       "      <td>Gratitude</td>\n",
       "      <td>73.0</td>\n",
       "      <td>0.78</td>\n",
       "      <td>0.22</td>\n",
       "      <td>0.75</td>\n",
       "    </tr>\n",
       "    <tr>\n",
       "      <th>4</th>\n",
       "      <td>Track 21326</td>\n",
       "      <td>Jimin</td>\n",
       "      <td>680000000</td>\n",
       "      <td>800000</td>\n",
       "      <td>Experimental</td>\n",
       "      <td>2023</td>\n",
       "      <td>3</td>\n",
       "      <td>77.0</td>\n",
       "      <td>Intense</td>\n",
       "      <td>49.0</td>\n",
       "      <td>0.82</td>\n",
       "      <td>0.14</td>\n",
       "      <td>0.88</td>\n",
       "    </tr>\n",
       "    <tr>\n",
       "      <th>...</th>\n",
       "      <td>...</td>\n",
       "      <td>...</td>\n",
       "      <td>...</td>\n",
       "      <td>...</td>\n",
       "      <td>...</td>\n",
       "      <td>...</td>\n",
       "      <td>...</td>\n",
       "      <td>...</td>\n",
       "      <td>...</td>\n",
       "      <td>...</td>\n",
       "      <td>...</td>\n",
       "      <td>...</td>\n",
       "      <td>...</td>\n",
       "    </tr>\n",
       "    <tr>\n",
       "      <th>4845</th>\n",
       "      <td>Track 24875</td>\n",
       "      <td>Aurora Soundwave</td>\n",
       "      <td>439001503</td>\n",
       "      <td>391466</td>\n",
       "      <td>Indie</td>\n",
       "      <td>2003</td>\n",
       "      <td>59</td>\n",
       "      <td>18.0</td>\n",
       "      <td>Gratitude</td>\n",
       "      <td>54.0</td>\n",
       "      <td>0.66</td>\n",
       "      <td>0.54</td>\n",
       "      <td>0.73</td>\n",
       "    </tr>\n",
       "    <tr>\n",
       "      <th>4846</th>\n",
       "      <td>Track 7493</td>\n",
       "      <td>Samantha Lee</td>\n",
       "      <td>272411120</td>\n",
       "      <td>4270641</td>\n",
       "      <td>Metal</td>\n",
       "      <td>2004</td>\n",
       "      <td>96</td>\n",
       "      <td>1.0</td>\n",
       "      <td>Duet</td>\n",
       "      <td>94.0</td>\n",
       "      <td>0.77</td>\n",
       "      <td>0.50</td>\n",
       "      <td>0.19</td>\n",
       "    </tr>\n",
       "    <tr>\n",
       "      <th>4847</th>\n",
       "      <td>Track 61735</td>\n",
       "      <td>Retro Resonance</td>\n",
       "      <td>590393937</td>\n",
       "      <td>1474438</td>\n",
       "      <td>K-Pop</td>\n",
       "      <td>2014</td>\n",
       "      <td>55</td>\n",
       "      <td>27.0</td>\n",
       "      <td>Duet</td>\n",
       "      <td>9.0</td>\n",
       "      <td>0.91</td>\n",
       "      <td>0.83</td>\n",
       "      <td>0.91</td>\n",
       "    </tr>\n",
       "    <tr>\n",
       "      <th>4848</th>\n",
       "      <td>Track 47314</td>\n",
       "      <td>Bass Surge</td>\n",
       "      <td>376858259</td>\n",
       "      <td>1933465</td>\n",
       "      <td>Latin</td>\n",
       "      <td>1996</td>\n",
       "      <td>75</td>\n",
       "      <td>15.0</td>\n",
       "      <td>Confident</td>\n",
       "      <td>31.0</td>\n",
       "      <td>0.17</td>\n",
       "      <td>0.03</td>\n",
       "      <td>0.79</td>\n",
       "    </tr>\n",
       "    <tr>\n",
       "      <th>4849</th>\n",
       "      <td>Track 30934</td>\n",
       "      <td>Shadow Beats</td>\n",
       "      <td>262207213</td>\n",
       "      <td>2419058</td>\n",
       "      <td>Blues</td>\n",
       "      <td>2006</td>\n",
       "      <td>15</td>\n",
       "      <td>57.0</td>\n",
       "      <td>Flirty</td>\n",
       "      <td>86.0</td>\n",
       "      <td>0.51</td>\n",
       "      <td>0.73</td>\n",
       "      <td>0.49</td>\n",
       "    </tr>\n",
       "  </tbody>\n",
       "</table>\n",
       "<p>4850 rows × 13 columns</p>\n",
       "</div>"
      ],
      "text/plain": [
       "             Song            Artist    Streams  Daily Streams         Genre  \\\n",
       "0     Track 14728          Jungkook  410000000         550000           Pop   \n",
       "1     Track 21319          Jungkook  370000000         520000    Pop/Ballad   \n",
       "2     Track 21324                RM  300000000         370000   Alt/Hip-Hop   \n",
       "3     Track 21325   J-Hopeft.J.Cole  720000000         950000       Hip-Hop   \n",
       "4     Track 21326             Jimin  680000000         800000  Experimental   \n",
       "...           ...               ...        ...            ...           ...   \n",
       "4845  Track 24875  Aurora Soundwave  439001503         391466         Indie   \n",
       "4846   Track 7493      Samantha Lee  272411120        4270641         Metal   \n",
       "4847  Track 61735   Retro Resonance  590393937        1474438         K-Pop   \n",
       "4848  Track 47314        Bass Surge  376858259        1933465         Latin   \n",
       "4849  Track 30934      Shadow Beats  262207213        2419058         Blues   \n",
       "\n",
       "      Release Year  Peak Position  Weeks on Chart Lyrics Sentiment  \\\n",
       "0             2023             11           110.0           Flirty   \n",
       "1             2023             13           100.0      Bittersweet   \n",
       "2             2024             15            40.0           Honest   \n",
       "3             2023              5            24.0        Gratitude   \n",
       "4             2023              3            77.0          Intense   \n",
       "...            ...            ...             ...              ...   \n",
       "4845          2003             59            18.0        Gratitude   \n",
       "4846          2004             96             1.0             Duet   \n",
       "4847          2014             55            27.0             Duet   \n",
       "4848          1996             75            15.0        Confident   \n",
       "4849          2006             15            57.0           Flirty   \n",
       "\n",
       "      TikTok Virality  Danceability  Acousticness  Energy  \n",
       "0                77.0          0.77          0.22    0.76  \n",
       "1                98.0          0.58          0.30    0.60  \n",
       "2                65.0          0.65          0.35    0.60  \n",
       "3                73.0          0.78          0.22    0.75  \n",
       "4                49.0          0.82          0.14    0.88  \n",
       "...               ...           ...           ...     ...  \n",
       "4845             54.0          0.66          0.54    0.73  \n",
       "4846             94.0          0.77          0.50    0.19  \n",
       "4847              9.0          0.91          0.83    0.91  \n",
       "4848             31.0          0.17          0.03    0.79  \n",
       "4849             86.0          0.51          0.73    0.49  \n",
       "\n",
       "[4850 rows x 13 columns]"
      ]
     },
     "execution_count": 156,
     "metadata": {},
     "output_type": "execute_result"
    }
   ],
   "source": [
    "df = pd.read_csv(r\"music-dataset.csv\")\n",
    "df"
   ]
  },
  {
   "cell_type": "markdown",
   "id": "23f88990",
   "metadata": {},
   "source": [
    "DATA EXPLOARATION "
   ]
  },
  {
   "cell_type": "code",
   "execution_count": null,
   "id": "91f5c61b",
   "metadata": {},
   "outputs": [
    {
     "name": "stdout",
     "output_type": "stream",
     "text": [
      "Number of Rows: 4850\n",
      "Number of Columns: 13\n"
     ]
    }
   ],
   "source": [
    "print(f\"Number of Rows: {df.shape[0]}\\nNumber of Columns: {df.shape[1]}\")"
   ]
  },
  {
   "cell_type": "code",
   "execution_count": null,
   "id": "35b05544",
   "metadata": {},
   "outputs": [
    {
     "data": {
      "application/vnd.microsoft.datawrangler.viewer.v0+json": {
       "columns": [
        {
         "name": "index",
         "rawType": "int64",
         "type": "integer"
        },
        {
         "name": "Song",
         "rawType": "object",
         "type": "string"
        },
        {
         "name": "Artist",
         "rawType": "object",
         "type": "string"
        },
        {
         "name": "Streams",
         "rawType": "int64",
         "type": "integer"
        },
        {
         "name": "Daily Streams",
         "rawType": "int64",
         "type": "integer"
        },
        {
         "name": "Genre",
         "rawType": "object",
         "type": "string"
        },
        {
         "name": "Release Year",
         "rawType": "int64",
         "type": "integer"
        },
        {
         "name": "Peak Position",
         "rawType": "int64",
         "type": "integer"
        },
        {
         "name": "Weeks on Chart",
         "rawType": "float64",
         "type": "float"
        },
        {
         "name": "Lyrics Sentiment",
         "rawType": "object",
         "type": "string"
        },
        {
         "name": "TikTok Virality",
         "rawType": "float64",
         "type": "float"
        },
        {
         "name": "Danceability",
         "rawType": "float64",
         "type": "float"
        },
        {
         "name": "Acousticness",
         "rawType": "float64",
         "type": "float"
        },
        {
         "name": "Energy",
         "rawType": "float64",
         "type": "float"
        }
       ],
       "conversionMethod": "pd.DataFrame",
       "ref": "61545bca-9b29-4bdf-9657-3b2bf8683049",
       "rows": [
        [
         "0",
         "Track 14728",
         "Jungkook",
         "410000000",
         "550000",
         "Pop",
         "2023",
         "11",
         "110.0",
         "Flirty",
         "77.0",
         "0.77",
         "0.22",
         "0.76"
        ],
        [
         "1",
         "Track 21319",
         "Jungkook",
         "370000000",
         "520000",
         "Pop/Ballad",
         "2023",
         "13",
         "100.0",
         "Bittersweet",
         "98.0",
         "0.58",
         "0.3",
         "0.6"
        ]
       ],
       "shape": {
        "columns": 13,
        "rows": 2
       }
      },
      "text/html": [
       "<div>\n",
       "<style scoped>\n",
       "    .dataframe tbody tr th:only-of-type {\n",
       "        vertical-align: middle;\n",
       "    }\n",
       "\n",
       "    .dataframe tbody tr th {\n",
       "        vertical-align: top;\n",
       "    }\n",
       "\n",
       "    .dataframe thead th {\n",
       "        text-align: right;\n",
       "    }\n",
       "</style>\n",
       "<table border=\"1\" class=\"dataframe\">\n",
       "  <thead>\n",
       "    <tr style=\"text-align: right;\">\n",
       "      <th></th>\n",
       "      <th>Song</th>\n",
       "      <th>Artist</th>\n",
       "      <th>Streams</th>\n",
       "      <th>Daily Streams</th>\n",
       "      <th>Genre</th>\n",
       "      <th>Release Year</th>\n",
       "      <th>Peak Position</th>\n",
       "      <th>Weeks on Chart</th>\n",
       "      <th>Lyrics Sentiment</th>\n",
       "      <th>TikTok Virality</th>\n",
       "      <th>Danceability</th>\n",
       "      <th>Acousticness</th>\n",
       "      <th>Energy</th>\n",
       "    </tr>\n",
       "  </thead>\n",
       "  <tbody>\n",
       "    <tr>\n",
       "      <th>0</th>\n",
       "      <td>Track 14728</td>\n",
       "      <td>Jungkook</td>\n",
       "      <td>410000000</td>\n",
       "      <td>550000</td>\n",
       "      <td>Pop</td>\n",
       "      <td>2023</td>\n",
       "      <td>11</td>\n",
       "      <td>110.0</td>\n",
       "      <td>Flirty</td>\n",
       "      <td>77.0</td>\n",
       "      <td>0.77</td>\n",
       "      <td>0.22</td>\n",
       "      <td>0.76</td>\n",
       "    </tr>\n",
       "    <tr>\n",
       "      <th>1</th>\n",
       "      <td>Track 21319</td>\n",
       "      <td>Jungkook</td>\n",
       "      <td>370000000</td>\n",
       "      <td>520000</td>\n",
       "      <td>Pop/Ballad</td>\n",
       "      <td>2023</td>\n",
       "      <td>13</td>\n",
       "      <td>100.0</td>\n",
       "      <td>Bittersweet</td>\n",
       "      <td>98.0</td>\n",
       "      <td>0.58</td>\n",
       "      <td>0.30</td>\n",
       "      <td>0.60</td>\n",
       "    </tr>\n",
       "  </tbody>\n",
       "</table>\n",
       "</div>"
      ],
      "text/plain": [
       "          Song    Artist    Streams  Daily Streams       Genre  Release Year  \\\n",
       "0  Track 14728  Jungkook  410000000         550000         Pop          2023   \n",
       "1  Track 21319  Jungkook  370000000         520000  Pop/Ballad          2023   \n",
       "\n",
       "   Peak Position  Weeks on Chart Lyrics Sentiment  TikTok Virality  \\\n",
       "0             11           110.0           Flirty             77.0   \n",
       "1             13           100.0      Bittersweet             98.0   \n",
       "\n",
       "   Danceability  Acousticness  Energy  \n",
       "0          0.77          0.22    0.76  \n",
       "1          0.58          0.30    0.60  "
      ]
     },
     "execution_count": 158,
     "metadata": {},
     "output_type": "execute_result"
    }
   ],
   "source": [
    "df.head(2)"
   ]
  },
  {
   "cell_type": "code",
   "execution_count": null,
   "id": "5ff3cc79",
   "metadata": {},
   "outputs": [
    {
     "data": {
      "application/vnd.microsoft.datawrangler.viewer.v0+json": {
       "columns": [
        {
         "name": "index",
         "rawType": "int64",
         "type": "integer"
        },
        {
         "name": "Song",
         "rawType": "object",
         "type": "string"
        },
        {
         "name": "Artist",
         "rawType": "object",
         "type": "string"
        },
        {
         "name": "Streams",
         "rawType": "int64",
         "type": "integer"
        },
        {
         "name": "Daily Streams",
         "rawType": "int64",
         "type": "integer"
        },
        {
         "name": "Genre",
         "rawType": "object",
         "type": "string"
        },
        {
         "name": "Release Year",
         "rawType": "int64",
         "type": "integer"
        },
        {
         "name": "Peak Position",
         "rawType": "int64",
         "type": "integer"
        },
        {
         "name": "Weeks on Chart",
         "rawType": "float64",
         "type": "float"
        },
        {
         "name": "Lyrics Sentiment",
         "rawType": "object",
         "type": "string"
        },
        {
         "name": "TikTok Virality",
         "rawType": "float64",
         "type": "float"
        },
        {
         "name": "Danceability",
         "rawType": "float64",
         "type": "float"
        },
        {
         "name": "Acousticness",
         "rawType": "float64",
         "type": "float"
        },
        {
         "name": "Energy",
         "rawType": "float64",
         "type": "float"
        }
       ],
       "conversionMethod": "pd.DataFrame",
       "ref": "6dfa5b32-12e2-4601-bc82-f7a5621a4f5e",
       "rows": [
        [
         "4848",
         "Track 47314",
         "Bass Surge",
         "376858259",
         "1933465",
         "Latin",
         "1996",
         "75",
         "15.0",
         "Confident",
         "31.0",
         "0.17",
         "0.03",
         "0.79"
        ],
        [
         "4849",
         "Track 30934",
         "Shadow Beats",
         "262207213",
         "2419058",
         "Blues",
         "2006",
         "15",
         "57.0",
         "Flirty",
         "86.0",
         "0.51",
         "0.73",
         "0.49"
        ]
       ],
       "shape": {
        "columns": 13,
        "rows": 2
       }
      },
      "text/html": [
       "<div>\n",
       "<style scoped>\n",
       "    .dataframe tbody tr th:only-of-type {\n",
       "        vertical-align: middle;\n",
       "    }\n",
       "\n",
       "    .dataframe tbody tr th {\n",
       "        vertical-align: top;\n",
       "    }\n",
       "\n",
       "    .dataframe thead th {\n",
       "        text-align: right;\n",
       "    }\n",
       "</style>\n",
       "<table border=\"1\" class=\"dataframe\">\n",
       "  <thead>\n",
       "    <tr style=\"text-align: right;\">\n",
       "      <th></th>\n",
       "      <th>Song</th>\n",
       "      <th>Artist</th>\n",
       "      <th>Streams</th>\n",
       "      <th>Daily Streams</th>\n",
       "      <th>Genre</th>\n",
       "      <th>Release Year</th>\n",
       "      <th>Peak Position</th>\n",
       "      <th>Weeks on Chart</th>\n",
       "      <th>Lyrics Sentiment</th>\n",
       "      <th>TikTok Virality</th>\n",
       "      <th>Danceability</th>\n",
       "      <th>Acousticness</th>\n",
       "      <th>Energy</th>\n",
       "    </tr>\n",
       "  </thead>\n",
       "  <tbody>\n",
       "    <tr>\n",
       "      <th>4848</th>\n",
       "      <td>Track 47314</td>\n",
       "      <td>Bass Surge</td>\n",
       "      <td>376858259</td>\n",
       "      <td>1933465</td>\n",
       "      <td>Latin</td>\n",
       "      <td>1996</td>\n",
       "      <td>75</td>\n",
       "      <td>15.0</td>\n",
       "      <td>Confident</td>\n",
       "      <td>31.0</td>\n",
       "      <td>0.17</td>\n",
       "      <td>0.03</td>\n",
       "      <td>0.79</td>\n",
       "    </tr>\n",
       "    <tr>\n",
       "      <th>4849</th>\n",
       "      <td>Track 30934</td>\n",
       "      <td>Shadow Beats</td>\n",
       "      <td>262207213</td>\n",
       "      <td>2419058</td>\n",
       "      <td>Blues</td>\n",
       "      <td>2006</td>\n",
       "      <td>15</td>\n",
       "      <td>57.0</td>\n",
       "      <td>Flirty</td>\n",
       "      <td>86.0</td>\n",
       "      <td>0.51</td>\n",
       "      <td>0.73</td>\n",
       "      <td>0.49</td>\n",
       "    </tr>\n",
       "  </tbody>\n",
       "</table>\n",
       "</div>"
      ],
      "text/plain": [
       "             Song        Artist    Streams  Daily Streams  Genre  \\\n",
       "4848  Track 47314    Bass Surge  376858259        1933465  Latin   \n",
       "4849  Track 30934  Shadow Beats  262207213        2419058  Blues   \n",
       "\n",
       "      Release Year  Peak Position  Weeks on Chart Lyrics Sentiment  \\\n",
       "4848          1996             75            15.0        Confident   \n",
       "4849          2006             15            57.0           Flirty   \n",
       "\n",
       "      TikTok Virality  Danceability  Acousticness  Energy  \n",
       "4848             31.0          0.17          0.03    0.79  \n",
       "4849             86.0          0.51          0.73    0.49  "
      ]
     },
     "execution_count": 159,
     "metadata": {},
     "output_type": "execute_result"
    }
   ],
   "source": [
    "df.tail(2)"
   ]
  },
  {
   "cell_type": "code",
   "execution_count": null,
   "id": "1eff28a8",
   "metadata": {},
   "outputs": [
    {
     "data": {
      "application/vnd.microsoft.datawrangler.viewer.v0+json": {
       "columns": [
        {
         "name": "index",
         "rawType": "object",
         "type": "string"
        },
        {
         "name": "Streams",
         "rawType": "float64",
         "type": "float"
        },
        {
         "name": "Daily Streams",
         "rawType": "float64",
         "type": "float"
        },
        {
         "name": "Release Year",
         "rawType": "float64",
         "type": "float"
        },
        {
         "name": "Peak Position",
         "rawType": "float64",
         "type": "float"
        },
        {
         "name": "Weeks on Chart",
         "rawType": "float64",
         "type": "float"
        },
        {
         "name": "TikTok Virality",
         "rawType": "float64",
         "type": "float"
        },
        {
         "name": "Danceability",
         "rawType": "float64",
         "type": "float"
        },
        {
         "name": "Acousticness",
         "rawType": "float64",
         "type": "float"
        },
        {
         "name": "Energy",
         "rawType": "float64",
         "type": "float"
        }
       ],
       "conversionMethod": "pd.DataFrame",
       "ref": "1a34f126-0333-4761-81a6-e40e8ee4b91d",
       "rows": [
        [
         "count",
         "4850.0",
         "4850.0",
         "4850.0",
         "4850.0",
         "4849.0",
         "4849.0",
         "4848.0",
         "4849.0",
         "4847.0"
        ],
        [
         "mean",
         "397819045.5950515",
         "2486864.958556701",
         "2007.798969072165",
         "51.17134020618557",
         "52.23138791503403",
         "50.8098577026191",
         "0.5852825907590758",
         "0.4999608166632296",
         "0.552939962863627"
        ],
        [
         "std",
         "230604897.71475735",
         "1458965.7792664093",
         "10.369170348653647",
         "29.027911331564695",
         "29.466279543015315",
         "29.287533705118072",
         "1.4518458767852191",
         "0.28747904664467105",
         "0.26072971566839154"
        ],
        [
         "min",
         "1130883.0",
         "11580.0",
         "1990.0",
         "0.0",
         "0.0",
         "0.0",
         "0.0",
         "0.0",
         "0.0"
        ],
        [
         "25%",
         "199392285.75",
         "1194213.75",
         "1999.0",
         "26.0",
         "27.0",
         "26.0",
         "0.33",
         "0.25",
         "0.32"
        ],
        [
         "50%",
         "394797584.5",
         "2471572.0",
         "2008.0",
         "51.0",
         "52.0",
         "51.0",
         "0.565",
         "0.5",
         "0.56"
        ],
        [
         "75%",
         "598681846.75",
         "3779586.0",
         "2017.0",
         "76.0",
         "78.0",
         "76.0",
         "0.78",
         "0.75",
         "0.77"
        ],
        [
         "max",
         "850000000.0",
         "4999643.0",
         "2025.0",
         "100.0",
         "110.0",
         "100.0",
         "71.0",
         "1.0",
         "1.0"
        ]
       ],
       "shape": {
        "columns": 9,
        "rows": 8
       }
      },
      "text/html": [
       "<div>\n",
       "<style scoped>\n",
       "    .dataframe tbody tr th:only-of-type {\n",
       "        vertical-align: middle;\n",
       "    }\n",
       "\n",
       "    .dataframe tbody tr th {\n",
       "        vertical-align: top;\n",
       "    }\n",
       "\n",
       "    .dataframe thead th {\n",
       "        text-align: right;\n",
       "    }\n",
       "</style>\n",
       "<table border=\"1\" class=\"dataframe\">\n",
       "  <thead>\n",
       "    <tr style=\"text-align: right;\">\n",
       "      <th></th>\n",
       "      <th>Streams</th>\n",
       "      <th>Daily Streams</th>\n",
       "      <th>Release Year</th>\n",
       "      <th>Peak Position</th>\n",
       "      <th>Weeks on Chart</th>\n",
       "      <th>TikTok Virality</th>\n",
       "      <th>Danceability</th>\n",
       "      <th>Acousticness</th>\n",
       "      <th>Energy</th>\n",
       "    </tr>\n",
       "  </thead>\n",
       "  <tbody>\n",
       "    <tr>\n",
       "      <th>count</th>\n",
       "      <td>4.850000e+03</td>\n",
       "      <td>4.850000e+03</td>\n",
       "      <td>4850.000000</td>\n",
       "      <td>4850.000000</td>\n",
       "      <td>4849.000000</td>\n",
       "      <td>4849.000000</td>\n",
       "      <td>4848.000000</td>\n",
       "      <td>4849.000000</td>\n",
       "      <td>4847.00000</td>\n",
       "    </tr>\n",
       "    <tr>\n",
       "      <th>mean</th>\n",
       "      <td>3.978190e+08</td>\n",
       "      <td>2.486865e+06</td>\n",
       "      <td>2007.798969</td>\n",
       "      <td>51.171340</td>\n",
       "      <td>52.231388</td>\n",
       "      <td>50.809858</td>\n",
       "      <td>0.585283</td>\n",
       "      <td>0.499961</td>\n",
       "      <td>0.55294</td>\n",
       "    </tr>\n",
       "    <tr>\n",
       "      <th>std</th>\n",
       "      <td>2.306049e+08</td>\n",
       "      <td>1.458966e+06</td>\n",
       "      <td>10.369170</td>\n",
       "      <td>29.027911</td>\n",
       "      <td>29.466280</td>\n",
       "      <td>29.287534</td>\n",
       "      <td>1.451846</td>\n",
       "      <td>0.287479</td>\n",
       "      <td>0.26073</td>\n",
       "    </tr>\n",
       "    <tr>\n",
       "      <th>min</th>\n",
       "      <td>1.130883e+06</td>\n",
       "      <td>1.158000e+04</td>\n",
       "      <td>1990.000000</td>\n",
       "      <td>0.000000</td>\n",
       "      <td>0.000000</td>\n",
       "      <td>0.000000</td>\n",
       "      <td>0.000000</td>\n",
       "      <td>0.000000</td>\n",
       "      <td>0.00000</td>\n",
       "    </tr>\n",
       "    <tr>\n",
       "      <th>25%</th>\n",
       "      <td>1.993923e+08</td>\n",
       "      <td>1.194214e+06</td>\n",
       "      <td>1999.000000</td>\n",
       "      <td>26.000000</td>\n",
       "      <td>27.000000</td>\n",
       "      <td>26.000000</td>\n",
       "      <td>0.330000</td>\n",
       "      <td>0.250000</td>\n",
       "      <td>0.32000</td>\n",
       "    </tr>\n",
       "    <tr>\n",
       "      <th>50%</th>\n",
       "      <td>3.947976e+08</td>\n",
       "      <td>2.471572e+06</td>\n",
       "      <td>2008.000000</td>\n",
       "      <td>51.000000</td>\n",
       "      <td>52.000000</td>\n",
       "      <td>51.000000</td>\n",
       "      <td>0.565000</td>\n",
       "      <td>0.500000</td>\n",
       "      <td>0.56000</td>\n",
       "    </tr>\n",
       "    <tr>\n",
       "      <th>75%</th>\n",
       "      <td>5.986818e+08</td>\n",
       "      <td>3.779586e+06</td>\n",
       "      <td>2017.000000</td>\n",
       "      <td>76.000000</td>\n",
       "      <td>78.000000</td>\n",
       "      <td>76.000000</td>\n",
       "      <td>0.780000</td>\n",
       "      <td>0.750000</td>\n",
       "      <td>0.77000</td>\n",
       "    </tr>\n",
       "    <tr>\n",
       "      <th>max</th>\n",
       "      <td>8.500000e+08</td>\n",
       "      <td>4.999643e+06</td>\n",
       "      <td>2025.000000</td>\n",
       "      <td>100.000000</td>\n",
       "      <td>110.000000</td>\n",
       "      <td>100.000000</td>\n",
       "      <td>71.000000</td>\n",
       "      <td>1.000000</td>\n",
       "      <td>1.00000</td>\n",
       "    </tr>\n",
       "  </tbody>\n",
       "</table>\n",
       "</div>"
      ],
      "text/plain": [
       "            Streams  Daily Streams  Release Year  Peak Position  \\\n",
       "count  4.850000e+03   4.850000e+03   4850.000000    4850.000000   \n",
       "mean   3.978190e+08   2.486865e+06   2007.798969      51.171340   \n",
       "std    2.306049e+08   1.458966e+06     10.369170      29.027911   \n",
       "min    1.130883e+06   1.158000e+04   1990.000000       0.000000   \n",
       "25%    1.993923e+08   1.194214e+06   1999.000000      26.000000   \n",
       "50%    3.947976e+08   2.471572e+06   2008.000000      51.000000   \n",
       "75%    5.986818e+08   3.779586e+06   2017.000000      76.000000   \n",
       "max    8.500000e+08   4.999643e+06   2025.000000     100.000000   \n",
       "\n",
       "       Weeks on Chart  TikTok Virality  Danceability  Acousticness      Energy  \n",
       "count     4849.000000      4849.000000   4848.000000   4849.000000  4847.00000  \n",
       "mean        52.231388        50.809858      0.585283      0.499961     0.55294  \n",
       "std         29.466280        29.287534      1.451846      0.287479     0.26073  \n",
       "min          0.000000         0.000000      0.000000      0.000000     0.00000  \n",
       "25%         27.000000        26.000000      0.330000      0.250000     0.32000  \n",
       "50%         52.000000        51.000000      0.565000      0.500000     0.56000  \n",
       "75%         78.000000        76.000000      0.780000      0.750000     0.77000  \n",
       "max        110.000000       100.000000     71.000000      1.000000     1.00000  "
      ]
     },
     "execution_count": 160,
     "metadata": {},
     "output_type": "execute_result"
    }
   ],
   "source": [
    "df.describe()"
   ]
  },
  {
   "cell_type": "code",
   "execution_count": null,
   "id": "3878d539",
   "metadata": {},
   "outputs": [
    {
     "name": "stdout",
     "output_type": "stream",
     "text": [
      "<class 'pandas.core.frame.DataFrame'>\n",
      "RangeIndex: 4850 entries, 0 to 4849\n",
      "Data columns (total 13 columns):\n",
      " #   Column            Non-Null Count  Dtype  \n",
      "---  ------            --------------  -----  \n",
      " 0   Song              4850 non-null   object \n",
      " 1   Artist            4850 non-null   object \n",
      " 2   Streams           4850 non-null   int64  \n",
      " 3   Daily Streams     4850 non-null   int64  \n",
      " 4   Genre             4850 non-null   object \n",
      " 5   Release Year      4850 non-null   int64  \n",
      " 6   Peak Position     4850 non-null   int64  \n",
      " 7   Weeks on Chart    4849 non-null   float64\n",
      " 8   Lyrics Sentiment  4850 non-null   object \n",
      " 9   TikTok Virality   4849 non-null   float64\n",
      " 10  Danceability      4848 non-null   float64\n",
      " 11  Acousticness      4849 non-null   float64\n",
      " 12  Energy            4847 non-null   float64\n",
      "dtypes: float64(5), int64(4), object(4)\n",
      "memory usage: 492.7+ KB\n"
     ]
    }
   ],
   "source": [
    "df.info()"
   ]
  },
  {
   "cell_type": "code",
   "execution_count": null,
   "id": "0ebc0bfe",
   "metadata": {},
   "outputs": [
    {
     "data": {
      "text/plain": [
       "Index(['Song', 'Artist', 'Streams', 'Daily Streams', 'Genre', 'Release Year',\n",
       "       'Peak Position', 'Weeks on Chart', 'Lyrics Sentiment',\n",
       "       'TikTok Virality', 'Danceability', 'Acousticness', 'Energy'],\n",
       "      dtype='object')"
      ]
     },
     "execution_count": 162,
     "metadata": {},
     "output_type": "execute_result"
    }
   ],
   "source": [
    "df.columns"
   ]
  },
  {
   "cell_type": "code",
   "execution_count": null,
   "id": "f8be983e",
   "metadata": {},
   "outputs": [
    {
     "name": "stdout",
     "output_type": "stream",
     "text": [
      "Song\n",
      "Artist\n",
      "Streams\n",
      "Daily Streams\n",
      "Genre\n",
      "Release Year\n",
      "Peak Position\n",
      "Weeks on Chart\n",
      "Lyrics Sentiment\n",
      "TikTok Virality\n",
      "Danceability\n",
      "Acousticness\n",
      "Energy\n"
     ]
    }
   ],
   "source": [
    "for i in df.columns:\n",
    "    print(i)"
   ]
  },
  {
   "cell_type": "code",
   "execution_count": null,
   "id": "af59d55c",
   "metadata": {},
   "outputs": [
    {
     "data": {
      "text/plain": [
       "Song                4850\n",
       "Artist              4850\n",
       "Streams             4850\n",
       "Daily Streams       4850\n",
       "Genre               4850\n",
       "Release Year        4850\n",
       "Peak Position       4850\n",
       "Weeks on Chart      4849\n",
       "Lyrics Sentiment    4850\n",
       "TikTok Virality     4849\n",
       "Danceability        4848\n",
       "Acousticness        4849\n",
       "Energy              4847\n",
       "dtype: int64"
      ]
     },
     "execution_count": 164,
     "metadata": {},
     "output_type": "execute_result"
    }
   ],
   "source": [
    "df.count()"
   ]
  },
  {
   "cell_type": "code",
   "execution_count": null,
   "id": "19d08829",
   "metadata": {},
   "outputs": [
    {
     "data": {
      "text/plain": [
       "array(['Jungkook', 'RM', 'J-Hopeft.J.Cole', 'Jimin', 'J-Hope', 'Jin', 'V',\n",
       "       'Suga', 'Jungkookft.CharliePuth', 'Sugaft.IU', 'Retro Resonance',\n",
       "       'Urban Rhapsody', 'Sofia Carter', 'ElectroPulse',\n",
       "       'Firefly Symphony', 'Neon Vortex', 'Liam Harper', 'Jay Zenith',\n",
       "       'The Midnight Howl', 'Shadow Beats', 'Samantha Lee',\n",
       "       'Aurora Soundwave', 'DJ Thunder', 'Horizon Flow', 'EchoSync',\n",
       "       'Ava & The Ocean', 'Crimson Echo', 'Celestial Harmony',\n",
       "       'Bass Surge', 'Luna Nova'], dtype=object)"
      ]
     },
     "execution_count": 165,
     "metadata": {},
     "output_type": "execute_result"
    }
   ],
   "source": [
    "df['Artist'].unique()"
   ]
  },
  {
   "cell_type": "code",
   "execution_count": null,
   "id": "ec6ac872",
   "metadata": {},
   "outputs": [
    {
     "data": {
      "text/plain": [
       "array(['Pop', 'Pop/Ballad', 'Alt/Hip-Hop', 'Hip-Hop', 'Experimental',\n",
       "       'Ballad', 'Soul/Pop', 'Pop/Rock', 'Pop/Soul', 'Hip-Hop/Pop',\n",
       "       'Indie/Pop', 'Pop/Acoustic', 'Pop/Rap', 'Reggae', 'Blues', 'Latin',\n",
       "       'Synthwave', 'Techno', 'R&B/Alt', 'Trap', 'Jazz', 'Punk', 'Rock',\n",
       "       'Electronic', 'House', 'Folk', 'Retro Soul', 'Country', 'Lo-Fi',\n",
       "       'Metal', 'Indie', 'Drum & Bass', 'R&B', 'K-Pop', 'EDM'],\n",
       "      dtype=object)"
      ]
     },
     "execution_count": 166,
     "metadata": {},
     "output_type": "execute_result"
    }
   ],
   "source": [
    "df['Genre'].unique()"
   ]
  },
  {
   "cell_type": "code",
   "execution_count": null,
   "id": "307e372a",
   "metadata": {},
   "outputs": [
    {
     "data": {
      "text/plain": [
       "array(['Jungkook', 'RM', 'J-Hopeft.J.Cole', 'Jimin', 'J-Hope', 'Jin', 'V',\n",
       "       'Suga', 'Jungkookft.CharliePuth', 'Sugaft.IU', 'Retro Resonance',\n",
       "       'Urban Rhapsody', 'Sofia Carter', 'ElectroPulse',\n",
       "       'Firefly Symphony', 'Neon Vortex', 'Liam Harper', 'Jay Zenith',\n",
       "       'The Midnight Howl', 'Shadow Beats', 'Samantha Lee',\n",
       "       'Aurora Soundwave', 'DJ Thunder', 'Horizon Flow', 'EchoSync',\n",
       "       'Ava & The Ocean', 'Crimson Echo', 'Celestial Harmony',\n",
       "       'Bass Surge', 'Luna Nova'], dtype=object)"
      ]
     },
     "execution_count": 167,
     "metadata": {},
     "output_type": "execute_result"
    }
   ],
   "source": [
    "df['Artist'].unique()"
   ]
  },
  {
   "cell_type": "code",
   "execution_count": null,
   "id": "b8874c92",
   "metadata": {},
   "outputs": [
    {
     "data": {
      "text/plain": [
       "Song                4745\n",
       "Artist                30\n",
       "Streams             4846\n",
       "Daily Streams       4843\n",
       "Genre                 35\n",
       "Release Year          36\n",
       "Peak Position        101\n",
       "Weeks on Chart       105\n",
       "Lyrics Sentiment      22\n",
       "TikTok Virality      101\n",
       "Danceability          94\n",
       "Acousticness         101\n",
       "Energy                92\n",
       "dtype: int64"
      ]
     },
     "execution_count": 168,
     "metadata": {},
     "output_type": "execute_result"
    }
   ],
   "source": [
    "df.nunique()"
   ]
  },
  {
   "cell_type": "code",
   "execution_count": null,
   "id": "7548f676",
   "metadata": {},
   "outputs": [
    {
     "data": {
      "text/plain": [
       "Song                0\n",
       "Artist              0\n",
       "Streams             0\n",
       "Daily Streams       0\n",
       "Genre               0\n",
       "Release Year        0\n",
       "Peak Position       0\n",
       "Weeks on Chart      1\n",
       "Lyrics Sentiment    0\n",
       "TikTok Virality     1\n",
       "Danceability        2\n",
       "Acousticness        1\n",
       "Energy              3\n",
       "dtype: int64"
      ]
     },
     "execution_count": 169,
     "metadata": {},
     "output_type": "execute_result"
    }
   ],
   "source": [
    "df.isnull().sum()"
   ]
  },
  {
   "cell_type": "markdown",
   "id": "af03fb5d",
   "metadata": {},
   "source": [
    "DATA PREPROCESSING"
   ]
  },
  {
   "cell_type": "code",
   "execution_count": null,
   "id": "9868d74c",
   "metadata": {},
   "outputs": [
    {
     "name": "stdout",
     "output_type": "stream",
     "text": [
      "<class 'pandas.core.frame.DataFrame'>\n",
      "RangeIndex: 4850 entries, 0 to 4849\n",
      "Data columns (total 13 columns):\n",
      " #   Column            Non-Null Count  Dtype  \n",
      "---  ------            --------------  -----  \n",
      " 0   Song              4850 non-null   object \n",
      " 1   Artist            4850 non-null   object \n",
      " 2   Streams           4850 non-null   int64  \n",
      " 3   Daily Streams     4850 non-null   int64  \n",
      " 4   Genre             4850 non-null   object \n",
      " 5   Release Year      4850 non-null   int64  \n",
      " 6   Peak Position     4850 non-null   int64  \n",
      " 7   Weeks on Chart    4849 non-null   float64\n",
      " 8   Lyrics Sentiment  4850 non-null   object \n",
      " 9   TikTok Virality   4849 non-null   float64\n",
      " 10  Danceability      4848 non-null   float64\n",
      " 11  Acousticness      4849 non-null   float64\n",
      " 12  Energy            4847 non-null   float64\n",
      "dtypes: float64(5), int64(4), object(4)\n",
      "memory usage: 492.7+ KB\n"
     ]
    }
   ],
   "source": [
    "df.info()"
   ]
  },
  {
   "cell_type": "code",
   "execution_count": null,
   "id": "d6f8bb3e",
   "metadata": {},
   "outputs": [
    {
     "name": "stdout",
     "output_type": "stream",
     "text": [
      "<class 'pandas.core.frame.DataFrame'>\n",
      "RangeIndex: 4850 entries, 0 to 4849\n",
      "Data columns (total 13 columns):\n",
      " #   Column            Non-Null Count  Dtype  \n",
      "---  ------            --------------  -----  \n",
      " 0   Song              4850 non-null   object \n",
      " 1   Artist            4850 non-null   object \n",
      " 2   Streams           4850 non-null   int64  \n",
      " 3   Daily Streams     4850 non-null   int64  \n",
      " 4   Genre             4850 non-null   object \n",
      " 5   Release Year      4850 non-null   int64  \n",
      " 6   Peak Position     4850 non-null   int64  \n",
      " 7   Weeks on Chart    4849 non-null   float64\n",
      " 8   Lyrics Sentiment  4850 non-null   object \n",
      " 9   TikTok Virality   4849 non-null   float64\n",
      " 10  Danceability      4848 non-null   float64\n",
      " 11  Acousticness      4849 non-null   float64\n",
      " 12  Energy            4847 non-null   float64\n",
      "dtypes: float64(5), int64(4), object(4)\n",
      "memory usage: 492.7+ KB\n"
     ]
    }
   ],
   "source": [
    "df.info()"
   ]
  },
  {
   "cell_type": "code",
   "execution_count": null,
   "id": "0ef54832",
   "metadata": {},
   "outputs": [
    {
     "data": {
      "text/plain": [
       "Song                0\n",
       "Artist              0\n",
       "Streams             0\n",
       "Daily Streams       0\n",
       "Genre               0\n",
       "Release Year        0\n",
       "Peak Position       0\n",
       "Weeks on Chart      1\n",
       "Lyrics Sentiment    0\n",
       "TikTok Virality     1\n",
       "Danceability        2\n",
       "Acousticness        1\n",
       "Energy              3\n",
       "dtype: int64"
      ]
     },
     "execution_count": 172,
     "metadata": {},
     "output_type": "execute_result"
    }
   ],
   "source": [
    "df.isnull().sum()"
   ]
  },
  {
   "cell_type": "code",
   "execution_count": null,
   "id": "aeb8a43e",
   "metadata": {},
   "outputs": [],
   "source": [
    "def fillNaMean(cols):\n",
    "    for i in cols:\n",
    "        df[i] = df[i].fillna(df[i].mean())\n",
    "\n",
    "columns = ['Danceability', 'Acousticness', 'Energy','TikTok Virality']\n",
    "fillNaMean(columns)"
   ]
  },
  {
   "cell_type": "code",
   "execution_count": null,
   "id": "2f55841f",
   "metadata": {},
   "outputs": [
    {
     "data": {
      "text/plain": [
       "Song                0\n",
       "Artist              0\n",
       "Streams             0\n",
       "Daily Streams       0\n",
       "Genre               0\n",
       "Release Year        0\n",
       "Peak Position       0\n",
       "Weeks on Chart      1\n",
       "Lyrics Sentiment    0\n",
       "TikTok Virality     0\n",
       "Danceability        0\n",
       "Acousticness        0\n",
       "Energy              0\n",
       "dtype: int64"
      ]
     },
     "execution_count": 174,
     "metadata": {},
     "output_type": "execute_result"
    }
   ],
   "source": [
    "df.isnull().sum()"
   ]
  },
  {
   "cell_type": "code",
   "execution_count": null,
   "id": "af64f824",
   "metadata": {},
   "outputs": [],
   "source": [
    "def fillNaMode(cols):\n",
    "    for i in cols:\n",
    "        df[i] = df[i].fillna(df[i].mode()[0])\n",
    "\n",
    "columns = ['Lyrics Sentiment']\n",
    "fillNaMode(columns)"
   ]
  },
  {
   "cell_type": "code",
   "execution_count": null,
   "id": "0923021e",
   "metadata": {},
   "outputs": [
    {
     "data": {
      "text/plain": [
       "Song                0\n",
       "Artist              0\n",
       "Streams             0\n",
       "Daily Streams       0\n",
       "Genre               0\n",
       "Release Year        0\n",
       "Peak Position       0\n",
       "Weeks on Chart      1\n",
       "Lyrics Sentiment    0\n",
       "TikTok Virality     0\n",
       "Danceability        0\n",
       "Acousticness        0\n",
       "Energy              0\n",
       "dtype: int64"
      ]
     },
     "execution_count": 176,
     "metadata": {},
     "output_type": "execute_result"
    }
   ],
   "source": [
    "df.isnull().sum()"
   ]
  },
  {
   "cell_type": "code",
   "execution_count": null,
   "id": "4f6c05b2",
   "metadata": {},
   "outputs": [],
   "source": [
    "def fillNaMedian(cols):\n",
    "    for i in cols:\n",
    "        df[i] = df[i].fillna(df[i].median())\n",
    "columns = ['Weeks on Chart']\n",
    "fillNaMedian(columns)\n"
   ]
  },
  {
   "cell_type": "code",
   "execution_count": null,
   "id": "15e55f1c",
   "metadata": {},
   "outputs": [
    {
     "data": {
      "text/plain": [
       "Song                0\n",
       "Artist              0\n",
       "Streams             0\n",
       "Daily Streams       0\n",
       "Genre               0\n",
       "Release Year        0\n",
       "Peak Position       0\n",
       "Weeks on Chart      0\n",
       "Lyrics Sentiment    0\n",
       "TikTok Virality     0\n",
       "Danceability        0\n",
       "Acousticness        0\n",
       "Energy              0\n",
       "dtype: int64"
      ]
     },
     "execution_count": 178,
     "metadata": {},
     "output_type": "execute_result"
    }
   ],
   "source": [
    "df.isnull().sum()"
   ]
  },
  {
   "cell_type": "code",
   "execution_count": null,
   "id": "18184de9",
   "metadata": {},
   "outputs": [
    {
     "name": "stdout",
     "output_type": "stream",
     "text": [
      "<class 'pandas.core.frame.DataFrame'>\n",
      "RangeIndex: 4850 entries, 0 to 4849\n",
      "Data columns (total 13 columns):\n",
      " #   Column            Non-Null Count  Dtype  \n",
      "---  ------            --------------  -----  \n",
      " 0   Song              4850 non-null   object \n",
      " 1   Artist            4850 non-null   object \n",
      " 2   Streams           4850 non-null   int64  \n",
      " 3   Daily Streams     4850 non-null   int64  \n",
      " 4   Genre             4850 non-null   object \n",
      " 5   Release Year      4850 non-null   int64  \n",
      " 6   Peak Position     4850 non-null   int64  \n",
      " 7   Weeks on Chart    4850 non-null   float64\n",
      " 8   Lyrics Sentiment  4850 non-null   object \n",
      " 9   TikTok Virality   4850 non-null   float64\n",
      " 10  Danceability      4850 non-null   float64\n",
      " 11  Acousticness      4850 non-null   float64\n",
      " 12  Energy            4850 non-null   float64\n",
      "dtypes: float64(5), int64(4), object(4)\n",
      "memory usage: 492.7+ KB\n"
     ]
    }
   ],
   "source": [
    "df.info()"
   ]
  },
  {
   "cell_type": "code",
   "execution_count": null,
   "id": "6f103f1e",
   "metadata": {},
   "outputs": [],
   "source": [
    "df.drop('Song', axis=1, inplace=True)"
   ]
  },
  {
   "cell_type": "code",
   "execution_count": null,
   "id": "854d6b22",
   "metadata": {},
   "outputs": [
    {
     "name": "stdout",
     "output_type": "stream",
     "text": [
      "<class 'pandas.core.frame.DataFrame'>\n",
      "RangeIndex: 4850 entries, 0 to 4849\n",
      "Data columns (total 12 columns):\n",
      " #   Column            Non-Null Count  Dtype  \n",
      "---  ------            --------------  -----  \n",
      " 0   Artist            4850 non-null   object \n",
      " 1   Streams           4850 non-null   int64  \n",
      " 2   Daily Streams     4850 non-null   int64  \n",
      " 3   Genre             4850 non-null   object \n",
      " 4   Release Year      4850 non-null   int64  \n",
      " 5   Peak Position     4850 non-null   int64  \n",
      " 6   Weeks on Chart    4850 non-null   float64\n",
      " 7   Lyrics Sentiment  4850 non-null   object \n",
      " 8   TikTok Virality   4850 non-null   float64\n",
      " 9   Danceability      4850 non-null   float64\n",
      " 10  Acousticness      4850 non-null   float64\n",
      " 11  Energy            4850 non-null   float64\n",
      "dtypes: float64(5), int64(4), object(3)\n",
      "memory usage: 454.8+ KB\n"
     ]
    }
   ],
   "source": [
    "df.info()"
   ]
  },
  {
   "cell_type": "code",
   "execution_count": null,
   "id": "bacbf31a",
   "metadata": {},
   "outputs": [],
   "source": [
    "def changeFloattoInt64(cols):\n",
    "    for i in cols:\n",
    "        df[i] = df[i].astype('int64')\n",
    "\n",
    "columns = ['Weeks on Chart', 'TikTok Virality','Energy','Danceability','Acousticness']\n",
    "changeFloattoInt64(columns)"
   ]
  },
  {
   "cell_type": "code",
   "execution_count": null,
   "id": "0be4e378",
   "metadata": {},
   "outputs": [
    {
     "name": "stdout",
     "output_type": "stream",
     "text": [
      "<class 'pandas.core.frame.DataFrame'>\n",
      "RangeIndex: 4850 entries, 0 to 4849\n",
      "Data columns (total 12 columns):\n",
      " #   Column            Non-Null Count  Dtype \n",
      "---  ------            --------------  ----- \n",
      " 0   Artist            4850 non-null   object\n",
      " 1   Streams           4850 non-null   int64 \n",
      " 2   Daily Streams     4850 non-null   int64 \n",
      " 3   Genre             4850 non-null   object\n",
      " 4   Release Year      4850 non-null   int64 \n",
      " 5   Peak Position     4850 non-null   int64 \n",
      " 6   Weeks on Chart    4850 non-null   int64 \n",
      " 7   Lyrics Sentiment  4850 non-null   object\n",
      " 8   TikTok Virality   4850 non-null   int64 \n",
      " 9   Danceability      4850 non-null   int64 \n",
      " 10  Acousticness      4850 non-null   int64 \n",
      " 11  Energy            4850 non-null   int64 \n",
      "dtypes: int64(9), object(3)\n",
      "memory usage: 454.8+ KB\n"
     ]
    }
   ],
   "source": [
    "df.info()"
   ]
  },
  {
   "cell_type": "code",
   "execution_count": null,
   "id": "11dbacdf",
   "metadata": {},
   "outputs": [
    {
     "data": {
      "text/plain": [
       "array(['Jungkook', 'RM', 'J-Hopeft.J.Cole', 'Jimin', 'J-Hope', 'Jin', 'V',\n",
       "       'Suga', 'Jungkookft.CharliePuth', 'Sugaft.IU', 'Retro Resonance',\n",
       "       'Urban Rhapsody', 'Sofia Carter', 'ElectroPulse',\n",
       "       'Firefly Symphony', 'Neon Vortex', 'Liam Harper', 'Jay Zenith',\n",
       "       'The Midnight Howl', 'Shadow Beats', 'Samantha Lee',\n",
       "       'Aurora Soundwave', 'DJ Thunder', 'Horizon Flow', 'EchoSync',\n",
       "       'Ava & The Ocean', 'Crimson Echo', 'Celestial Harmony',\n",
       "       'Bass Surge', 'Luna Nova'], dtype=object)"
      ]
     },
     "execution_count": 184,
     "metadata": {},
     "output_type": "execute_result"
    }
   ],
   "source": [
    "df['Artist'].unique()"
   ]
  },
  {
   "cell_type": "code",
   "execution_count": null,
   "id": "1fb226cb",
   "metadata": {},
   "outputs": [
    {
     "data": {
      "text/plain": [
       "array([410000000, 370000000, 300000000, ..., 590393937, 376858259,\n",
       "       262207213], shape=(4846,))"
      ]
     },
     "execution_count": 185,
     "metadata": {},
     "output_type": "execute_result"
    }
   ],
   "source": [
    "df['Streams'].unique()"
   ]
  },
  {
   "cell_type": "code",
   "execution_count": null,
   "id": "5af7f65e",
   "metadata": {},
   "outputs": [],
   "source": [
    "df_clean = df.copy()"
   ]
  },
  {
   "cell_type": "code",
   "execution_count": null,
   "id": "7c6d7798",
   "metadata": {},
   "outputs": [],
   "source": [
    "def encodeCols(cols):\n",
    "    for i in cols:\n",
    "        temp = pd.DataFrame({i:df[i].unique()})\n",
    "        data_LE = LabelEncoder()\n",
    "        data_LE.fit(np.ravel(temp))\n",
    "        df_clean[i] = data_LE.transform(df[i]).astype('int64')\n",
    "\n",
    "columns = ['Artist', 'Genre', 'Lyrics Sentiment','TikTok Virality']\n",
    "encodeCols(columns)"
   ]
  },
  {
   "cell_type": "code",
   "execution_count": null,
   "id": "f070ccf4",
   "metadata": {},
   "outputs": [
    {
     "name": "stdout",
     "output_type": "stream",
     "text": [
      "<class 'pandas.core.frame.DataFrame'>\n",
      "RangeIndex: 4850 entries, 0 to 4849\n",
      "Data columns (total 12 columns):\n",
      " #   Column            Non-Null Count  Dtype\n",
      "---  ------            --------------  -----\n",
      " 0   Artist            4850 non-null   int64\n",
      " 1   Streams           4850 non-null   int64\n",
      " 2   Daily Streams     4850 non-null   int64\n",
      " 3   Genre             4850 non-null   int64\n",
      " 4   Release Year      4850 non-null   int64\n",
      " 5   Peak Position     4850 non-null   int64\n",
      " 6   Weeks on Chart    4850 non-null   int64\n",
      " 7   Lyrics Sentiment  4850 non-null   int64\n",
      " 8   TikTok Virality   4850 non-null   int64\n",
      " 9   Danceability      4850 non-null   int64\n",
      " 10  Acousticness      4850 non-null   int64\n",
      " 11  Energy            4850 non-null   int64\n",
      "dtypes: int64(12)\n",
      "memory usage: 454.8 KB\n"
     ]
    }
   ],
   "source": [
    "df_clean.info()"
   ]
  },
  {
   "cell_type": "code",
   "execution_count": null,
   "id": "8318be0c",
   "metadata": {},
   "outputs": [
    {
     "data": {
      "application/vnd.microsoft.datawrangler.viewer.v0+json": {
       "columns": [
        {
         "name": "index",
         "rawType": "int64",
         "type": "integer"
        },
        {
         "name": "Artist",
         "rawType": "int64",
         "type": "integer"
        },
        {
         "name": "Streams",
         "rawType": "int64",
         "type": "integer"
        },
        {
         "name": "Daily Streams",
         "rawType": "int64",
         "type": "integer"
        },
        {
         "name": "Genre",
         "rawType": "int64",
         "type": "integer"
        },
        {
         "name": "Release Year",
         "rawType": "int64",
         "type": "integer"
        },
        {
         "name": "Peak Position",
         "rawType": "int64",
         "type": "integer"
        },
        {
         "name": "Weeks on Chart",
         "rawType": "int64",
         "type": "integer"
        },
        {
         "name": "Lyrics Sentiment",
         "rawType": "int64",
         "type": "integer"
        },
        {
         "name": "TikTok Virality",
         "rawType": "int64",
         "type": "integer"
        },
        {
         "name": "Danceability",
         "rawType": "int64",
         "type": "integer"
        },
        {
         "name": "Acousticness",
         "rawType": "int64",
         "type": "integer"
        },
        {
         "name": "Energy",
         "rawType": "int64",
         "type": "integer"
        }
       ],
       "conversionMethod": "pd.DataFrame",
       "ref": "16ed5e56-1b86-4fc0-bcbb-0839aa8dd938",
       "rows": [
        [
         "0",
         "15",
         "410000000",
         "550000",
         "19",
         "2023",
         "11",
         "110",
         "7",
         "77",
         "0",
         "0",
         "0"
        ],
        [
         "1",
         "15",
         "370000000",
         "520000",
         "21",
         "2023",
         "13",
         "100",
         "0",
         "98",
         "0",
         "0",
         "0"
        ],
        [
         "2",
         "20",
         "300000000",
         "370000",
         "0",
         "2024",
         "15",
         "40",
         "9",
         "65",
         "0",
         "0",
         "0"
        ],
        [
         "3",
         "11",
         "720000000",
         "950000",
         "9",
         "2023",
         "5",
         "24",
         "8",
         "73",
         "0",
         "0",
         "0"
        ],
        [
         "4",
         "13",
         "680000000",
         "800000",
         "7",
         "2023",
         "3",
         "77",
         "12",
         "49",
         "0",
         "0",
         "0"
        ]
       ],
       "shape": {
        "columns": 12,
        "rows": 5
       }
      },
      "text/html": [
       "<div>\n",
       "<style scoped>\n",
       "    .dataframe tbody tr th:only-of-type {\n",
       "        vertical-align: middle;\n",
       "    }\n",
       "\n",
       "    .dataframe tbody tr th {\n",
       "        vertical-align: top;\n",
       "    }\n",
       "\n",
       "    .dataframe thead th {\n",
       "        text-align: right;\n",
       "    }\n",
       "</style>\n",
       "<table border=\"1\" class=\"dataframe\">\n",
       "  <thead>\n",
       "    <tr style=\"text-align: right;\">\n",
       "      <th></th>\n",
       "      <th>Artist</th>\n",
       "      <th>Streams</th>\n",
       "      <th>Daily Streams</th>\n",
       "      <th>Genre</th>\n",
       "      <th>Release Year</th>\n",
       "      <th>Peak Position</th>\n",
       "      <th>Weeks on Chart</th>\n",
       "      <th>Lyrics Sentiment</th>\n",
       "      <th>TikTok Virality</th>\n",
       "      <th>Danceability</th>\n",
       "      <th>Acousticness</th>\n",
       "      <th>Energy</th>\n",
       "    </tr>\n",
       "  </thead>\n",
       "  <tbody>\n",
       "    <tr>\n",
       "      <th>0</th>\n",
       "      <td>15</td>\n",
       "      <td>410000000</td>\n",
       "      <td>550000</td>\n",
       "      <td>19</td>\n",
       "      <td>2023</td>\n",
       "      <td>11</td>\n",
       "      <td>110</td>\n",
       "      <td>7</td>\n",
       "      <td>77</td>\n",
       "      <td>0</td>\n",
       "      <td>0</td>\n",
       "      <td>0</td>\n",
       "    </tr>\n",
       "    <tr>\n",
       "      <th>1</th>\n",
       "      <td>15</td>\n",
       "      <td>370000000</td>\n",
       "      <td>520000</td>\n",
       "      <td>21</td>\n",
       "      <td>2023</td>\n",
       "      <td>13</td>\n",
       "      <td>100</td>\n",
       "      <td>0</td>\n",
       "      <td>98</td>\n",
       "      <td>0</td>\n",
       "      <td>0</td>\n",
       "      <td>0</td>\n",
       "    </tr>\n",
       "    <tr>\n",
       "      <th>2</th>\n",
       "      <td>20</td>\n",
       "      <td>300000000</td>\n",
       "      <td>370000</td>\n",
       "      <td>0</td>\n",
       "      <td>2024</td>\n",
       "      <td>15</td>\n",
       "      <td>40</td>\n",
       "      <td>9</td>\n",
       "      <td>65</td>\n",
       "      <td>0</td>\n",
       "      <td>0</td>\n",
       "      <td>0</td>\n",
       "    </tr>\n",
       "    <tr>\n",
       "      <th>3</th>\n",
       "      <td>11</td>\n",
       "      <td>720000000</td>\n",
       "      <td>950000</td>\n",
       "      <td>9</td>\n",
       "      <td>2023</td>\n",
       "      <td>5</td>\n",
       "      <td>24</td>\n",
       "      <td>8</td>\n",
       "      <td>73</td>\n",
       "      <td>0</td>\n",
       "      <td>0</td>\n",
       "      <td>0</td>\n",
       "    </tr>\n",
       "    <tr>\n",
       "      <th>4</th>\n",
       "      <td>13</td>\n",
       "      <td>680000000</td>\n",
       "      <td>800000</td>\n",
       "      <td>7</td>\n",
       "      <td>2023</td>\n",
       "      <td>3</td>\n",
       "      <td>77</td>\n",
       "      <td>12</td>\n",
       "      <td>49</td>\n",
       "      <td>0</td>\n",
       "      <td>0</td>\n",
       "      <td>0</td>\n",
       "    </tr>\n",
       "  </tbody>\n",
       "</table>\n",
       "</div>"
      ],
      "text/plain": [
       "   Artist    Streams  Daily Streams  Genre  Release Year  Peak Position  \\\n",
       "0      15  410000000         550000     19          2023             11   \n",
       "1      15  370000000         520000     21          2023             13   \n",
       "2      20  300000000         370000      0          2024             15   \n",
       "3      11  720000000         950000      9          2023              5   \n",
       "4      13  680000000         800000      7          2023              3   \n",
       "\n",
       "   Weeks on Chart  Lyrics Sentiment  TikTok Virality  Danceability  \\\n",
       "0             110                 7               77             0   \n",
       "1             100                 0               98             0   \n",
       "2              40                 9               65             0   \n",
       "3              24                 8               73             0   \n",
       "4              77                12               49             0   \n",
       "\n",
       "   Acousticness  Energy  \n",
       "0             0       0  \n",
       "1             0       0  \n",
       "2             0       0  \n",
       "3             0       0  \n",
       "4             0       0  "
      ]
     },
     "execution_count": 189,
     "metadata": {},
     "output_type": "execute_result"
    }
   ],
   "source": [
    "df_clean.head()"
   ]
  },
  {
   "cell_type": "code",
   "execution_count": null,
   "id": "1a01fdb7",
   "metadata": {},
   "outputs": [
    {
     "name": "stdout",
     "output_type": "stream",
     "text": [
      "<class 'pandas.core.frame.DataFrame'>\n",
      "RangeIndex: 4850 entries, 0 to 4849\n",
      "Data columns (total 12 columns):\n",
      " #   Column            Non-Null Count  Dtype\n",
      "---  ------            --------------  -----\n",
      " 0   Artist            4850 non-null   int64\n",
      " 1   Streams           4850 non-null   int64\n",
      " 2   Daily Streams     4850 non-null   int64\n",
      " 3   Genre             4850 non-null   int64\n",
      " 4   Release Year      4850 non-null   int64\n",
      " 5   Peak Position     4850 non-null   int64\n",
      " 6   Weeks on Chart    4850 non-null   int64\n",
      " 7   Lyrics Sentiment  4850 non-null   int64\n",
      " 8   TikTok Virality   4850 non-null   int64\n",
      " 9   Danceability      4850 non-null   int64\n",
      " 10  Acousticness      4850 non-null   int64\n",
      " 11  Energy            4850 non-null   int64\n",
      "dtypes: int64(12)\n",
      "memory usage: 454.8 KB\n"
     ]
    }
   ],
   "source": [
    "df_clean.info()"
   ]
  },
  {
   "cell_type": "code",
   "execution_count": null,
   "id": "bc6b4653",
   "metadata": {},
   "outputs": [],
   "source": [
    "df_clean.to_csv(r'billboard_trends_cleaned.csv', index=False, header=True)"
   ]
  },
  {
   "cell_type": "code",
   "execution_count": null,
   "id": "74fd5097",
   "metadata": {},
   "outputs": [
    {
     "data": {
      "text/plain": [
       "array([19, 21,  0,  9,  7,  1, 31, 23, 24, 10, 13, 20, 22, 28,  2, 16, 32,\n",
       "       33, 27, 34, 14, 25, 30,  6, 11,  8, 29,  3, 17, 18, 12,  4, 26, 15,\n",
       "        5])"
      ]
     },
     "execution_count": 192,
     "metadata": {},
     "output_type": "execute_result"
    }
   ],
   "source": [
    "df_clean['Genre'].unique()"
   ]
  },
  {
   "cell_type": "code",
   "execution_count": null,
   "id": "2b58ede0",
   "metadata": {},
   "outputs": [
    {
     "data": {
      "text/plain": [
       "array([ 77,  98,  65,  73,  49,  33,  56,  44,  32,  47,  62,  54,  25,\n",
       "        45,  76,  67,  70,  50,  11,  71,  15,  87,  35,  82,  66,  16,\n",
       "        12,  10,   2,  38,   4,  78,  61,  26,  21,  42,  41,  96,  27,\n",
       "        89,  74,  34,  58,  59,  24,  17,  46,  40,  68,  37,   1,  57,\n",
       "        19,  80,   7,  63,   0,  55,  39,  14,  29,  60,  95,  94,  90,\n",
       "        20,  69,  31,  52,  75,  86,  64,   8, 100,  72,   3,  28,  97,\n",
       "        99,   6,  51,  85,  93,  81,   5,  30,   9,  79,  36,  22,  84,\n",
       "        92,  91,  53,  83,  48,  13,  43,  23,  18,  88])"
      ]
     },
     "execution_count": 193,
     "metadata": {},
     "output_type": "execute_result"
    }
   ],
   "source": [
    "df_clean['TikTok Virality'].unique()"
   ]
  },
  {
   "cell_type": "code",
   "execution_count": null,
   "id": "edb0c57f",
   "metadata": {},
   "outputs": [
    {
     "data": {
      "text/plain": [
       "array([15, 20, 11, 13, 10, 14, 29, 25, 16, 26, 21, 28, 24,  7,  8, 19, 17,\n",
       "       12, 27, 23, 22,  0,  5,  9,  6,  1,  4,  3,  2, 18])"
      ]
     },
     "execution_count": 194,
     "metadata": {},
     "output_type": "execute_result"
    }
   ],
   "source": [
    "df_clean['Artist'].unique()"
   ]
  },
  {
   "cell_type": "code",
   "execution_count": null,
   "id": "62085521",
   "metadata": {},
   "outputs": [
    {
     "data": {
      "text/plain": [
       "array([2023, 2024, 1992, 2000, 2001, 2025, 1991, 2014, 2022, 1996, 2018,\n",
       "       2021, 2002, 2013, 2020, 2007, 2012, 1994, 1990, 2010, 2011, 2003,\n",
       "       1998, 1997, 2015, 2004, 2006, 2016, 2017, 2009, 1995, 2019, 1993,\n",
       "       2008, 2005, 1999])"
      ]
     },
     "execution_count": 195,
     "metadata": {},
     "output_type": "execute_result"
    }
   ],
   "source": [
    "df_clean['Release Year'].unique()"
   ]
  },
  {
   "cell_type": "code",
   "execution_count": null,
   "id": "c50b0c60",
   "metadata": {},
   "outputs": [
    {
     "data": {
      "application/vnd.microsoft.datawrangler.viewer.v0+json": {
       "columns": [
        {
         "name": "index",
         "rawType": "int64",
         "type": "integer"
        },
        {
         "name": "Artist",
         "rawType": "int64",
         "type": "integer"
        },
        {
         "name": "Streams",
         "rawType": "int64",
         "type": "integer"
        },
        {
         "name": "Daily Streams",
         "rawType": "int64",
         "type": "integer"
        },
        {
         "name": "Genre",
         "rawType": "int64",
         "type": "integer"
        },
        {
         "name": "Release Year",
         "rawType": "int64",
         "type": "integer"
        },
        {
         "name": "Peak Position",
         "rawType": "int64",
         "type": "integer"
        },
        {
         "name": "Weeks on Chart",
         "rawType": "int64",
         "type": "integer"
        },
        {
         "name": "Lyrics Sentiment",
         "rawType": "int64",
         "type": "integer"
        },
        {
         "name": "TikTok Virality",
         "rawType": "int64",
         "type": "integer"
        },
        {
         "name": "Danceability",
         "rawType": "int64",
         "type": "integer"
        },
        {
         "name": "Acousticness",
         "rawType": "int64",
         "type": "integer"
        },
        {
         "name": "Energy",
         "rawType": "int64",
         "type": "integer"
        }
       ],
       "conversionMethod": "pd.DataFrame",
       "ref": "c902a878-7d44-4576-b337-e57cca852ad8",
       "rows": [
        [
         "0",
         "15",
         "410000000",
         "550000",
         "19",
         "2023",
         "11",
         "110",
         "7",
         "77",
         "0",
         "0",
         "0"
        ],
        [
         "1",
         "15",
         "370000000",
         "520000",
         "21",
         "2023",
         "13",
         "100",
         "0",
         "98",
         "0",
         "0",
         "0"
        ]
       ],
       "shape": {
        "columns": 12,
        "rows": 2
       }
      },
      "text/html": [
       "<div>\n",
       "<style scoped>\n",
       "    .dataframe tbody tr th:only-of-type {\n",
       "        vertical-align: middle;\n",
       "    }\n",
       "\n",
       "    .dataframe tbody tr th {\n",
       "        vertical-align: top;\n",
       "    }\n",
       "\n",
       "    .dataframe thead th {\n",
       "        text-align: right;\n",
       "    }\n",
       "</style>\n",
       "<table border=\"1\" class=\"dataframe\">\n",
       "  <thead>\n",
       "    <tr style=\"text-align: right;\">\n",
       "      <th></th>\n",
       "      <th>Artist</th>\n",
       "      <th>Streams</th>\n",
       "      <th>Daily Streams</th>\n",
       "      <th>Genre</th>\n",
       "      <th>Release Year</th>\n",
       "      <th>Peak Position</th>\n",
       "      <th>Weeks on Chart</th>\n",
       "      <th>Lyrics Sentiment</th>\n",
       "      <th>TikTok Virality</th>\n",
       "      <th>Danceability</th>\n",
       "      <th>Acousticness</th>\n",
       "      <th>Energy</th>\n",
       "    </tr>\n",
       "  </thead>\n",
       "  <tbody>\n",
       "    <tr>\n",
       "      <th>0</th>\n",
       "      <td>15</td>\n",
       "      <td>410000000</td>\n",
       "      <td>550000</td>\n",
       "      <td>19</td>\n",
       "      <td>2023</td>\n",
       "      <td>11</td>\n",
       "      <td>110</td>\n",
       "      <td>7</td>\n",
       "      <td>77</td>\n",
       "      <td>0</td>\n",
       "      <td>0</td>\n",
       "      <td>0</td>\n",
       "    </tr>\n",
       "    <tr>\n",
       "      <th>1</th>\n",
       "      <td>15</td>\n",
       "      <td>370000000</td>\n",
       "      <td>520000</td>\n",
       "      <td>21</td>\n",
       "      <td>2023</td>\n",
       "      <td>13</td>\n",
       "      <td>100</td>\n",
       "      <td>0</td>\n",
       "      <td>98</td>\n",
       "      <td>0</td>\n",
       "      <td>0</td>\n",
       "      <td>0</td>\n",
       "    </tr>\n",
       "  </tbody>\n",
       "</table>\n",
       "</div>"
      ],
      "text/plain": [
       "   Artist    Streams  Daily Streams  Genre  Release Year  Peak Position  \\\n",
       "0      15  410000000         550000     19          2023             11   \n",
       "1      15  370000000         520000     21          2023             13   \n",
       "\n",
       "   Weeks on Chart  Lyrics Sentiment  TikTok Virality  Danceability  \\\n",
       "0             110                 7               77             0   \n",
       "1             100                 0               98             0   \n",
       "\n",
       "   Acousticness  Energy  \n",
       "0             0       0  \n",
       "1             0       0  "
      ]
     },
     "execution_count": 196,
     "metadata": {},
     "output_type": "execute_result"
    }
   ],
   "source": [
    "df_clean.head(2)"
   ]
  },
  {
   "cell_type": "code",
   "execution_count": null,
   "id": "a7cb6d64",
   "metadata": {},
   "outputs": [],
   "source": [
    "X = df_clean[['Genre', 'TikTok Virality','Release Year']]\n",
    "Y = df_clean[['Artist']]"
   ]
  },
  {
   "cell_type": "code",
   "execution_count": null,
   "id": "b682d2b1",
   "metadata": {},
   "outputs": [],
   "source": [
    "trainX, testX, trainY, testY = train_test_split(X, Y, test_size=0.2, shuffle=False)"
   ]
  },
  {
   "cell_type": "code",
   "execution_count": null,
   "id": "3b08ca8d",
   "metadata": {},
   "outputs": [
    {
     "data": {
      "application/vnd.microsoft.datawrangler.viewer.v0+json": {
       "columns": [
        {
         "name": "index",
         "rawType": "int64",
         "type": "integer"
        },
        {
         "name": "Genre",
         "rawType": "int64",
         "type": "integer"
        },
        {
         "name": "TikTok Virality",
         "rawType": "int64",
         "type": "integer"
        },
        {
         "name": "Release Year",
         "rawType": "int64",
         "type": "integer"
        }
       ],
       "conversionMethod": "pd.DataFrame",
       "ref": "61e9399d-8472-45b4-b6e4-e08aa3d35737",
       "rows": [
        [
         "0",
         "19",
         "77",
         "2023"
        ],
        [
         "1",
         "21",
         "98",
         "2023"
        ]
       ],
       "shape": {
        "columns": 3,
        "rows": 2
       }
      },
      "text/html": [
       "<div>\n",
       "<style scoped>\n",
       "    .dataframe tbody tr th:only-of-type {\n",
       "        vertical-align: middle;\n",
       "    }\n",
       "\n",
       "    .dataframe tbody tr th {\n",
       "        vertical-align: top;\n",
       "    }\n",
       "\n",
       "    .dataframe thead th {\n",
       "        text-align: right;\n",
       "    }\n",
       "</style>\n",
       "<table border=\"1\" class=\"dataframe\">\n",
       "  <thead>\n",
       "    <tr style=\"text-align: right;\">\n",
       "      <th></th>\n",
       "      <th>Genre</th>\n",
       "      <th>TikTok Virality</th>\n",
       "      <th>Release Year</th>\n",
       "    </tr>\n",
       "  </thead>\n",
       "  <tbody>\n",
       "    <tr>\n",
       "      <th>0</th>\n",
       "      <td>19</td>\n",
       "      <td>77</td>\n",
       "      <td>2023</td>\n",
       "    </tr>\n",
       "    <tr>\n",
       "      <th>1</th>\n",
       "      <td>21</td>\n",
       "      <td>98</td>\n",
       "      <td>2023</td>\n",
       "    </tr>\n",
       "  </tbody>\n",
       "</table>\n",
       "</div>"
      ],
      "text/plain": [
       "   Genre  TikTok Virality  Release Year\n",
       "0     19               77          2023\n",
       "1     21               98          2023"
      ]
     },
     "execution_count": 199,
     "metadata": {},
     "output_type": "execute_result"
    }
   ],
   "source": [
    "trainX.head(2)"
   ]
  },
  {
   "cell_type": "code",
   "execution_count": null,
   "id": "0b2348d5",
   "metadata": {},
   "outputs": [
    {
     "data": {
      "application/vnd.microsoft.datawrangler.viewer.v0+json": {
       "columns": [
        {
         "name": "index",
         "rawType": "int64",
         "type": "integer"
        },
        {
         "name": "Artist",
         "rawType": "int64",
         "type": "integer"
        }
       ],
       "conversionMethod": "pd.DataFrame",
       "ref": "1f9fdadd-52f2-403d-9789-8809cdbbd15e",
       "rows": [
        [
         "0",
         "15"
        ],
        [
         "1",
         "15"
        ]
       ],
       "shape": {
        "columns": 1,
        "rows": 2
       }
      },
      "text/html": [
       "<div>\n",
       "<style scoped>\n",
       "    .dataframe tbody tr th:only-of-type {\n",
       "        vertical-align: middle;\n",
       "    }\n",
       "\n",
       "    .dataframe tbody tr th {\n",
       "        vertical-align: top;\n",
       "    }\n",
       "\n",
       "    .dataframe thead th {\n",
       "        text-align: right;\n",
       "    }\n",
       "</style>\n",
       "<table border=\"1\" class=\"dataframe\">\n",
       "  <thead>\n",
       "    <tr style=\"text-align: right;\">\n",
       "      <th></th>\n",
       "      <th>Artist</th>\n",
       "    </tr>\n",
       "  </thead>\n",
       "  <tbody>\n",
       "    <tr>\n",
       "      <th>0</th>\n",
       "      <td>15</td>\n",
       "    </tr>\n",
       "    <tr>\n",
       "      <th>1</th>\n",
       "      <td>15</td>\n",
       "    </tr>\n",
       "  </tbody>\n",
       "</table>\n",
       "</div>"
      ],
      "text/plain": [
       "   Artist\n",
       "0      15\n",
       "1      15"
      ]
     },
     "execution_count": 200,
     "metadata": {},
     "output_type": "execute_result"
    }
   ],
   "source": [
    "trainY.head(2)"
   ]
  },
  {
   "cell_type": "code",
   "execution_count": null,
   "id": "0dff84c2",
   "metadata": {},
   "outputs": [],
   "source": [
    "import pickle\n",
    "from sklearn.svm import SVC\n"
   ]
  },
  {
   "cell_type": "code",
   "execution_count": null,
   "id": "86c11c56",
   "metadata": {},
   "outputs": [
    {
     "name": "stderr",
     "output_type": "stream",
     "text": [
      "C:\\Users\\LDA\\AppData\\Local\\Packages\\PythonSoftwareFoundation.Python.3.12_qbz5n2kfra8p0\\LocalCache\\local-packages\\Python312\\site-packages\\sklearn\\utils\\validation.py:1408: DataConversionWarning: A column-vector y was passed when a 1d array was expected. Please change the shape of y to (n_samples, ), for example using ravel().\n",
      "  y = column_or_1d(y, warn=True)\n"
     ]
    },
    {
     "name": "stdout",
     "output_type": "stream",
     "text": [
      "SVC()\n"
     ]
    }
   ],
   "source": [
    "model_SVC = SVC()\n",
    "model_SVC.fit(trainX, trainY)\n",
    "pickle.dump(model_SVC, open('model_svc.pkl', 'wb'))\n",
    "print(model_SVC)"
   ]
  },
  {
   "cell_type": "code",
   "execution_count": null,
   "id": "75b18bec",
   "metadata": {},
   "outputs": [],
   "source": [
    "model_SVC = pickle.load(open('model_svc.pkl', 'rb'))\n",
    "svr_predictions = model_SVC.predict(testX)"
   ]
  },
  {
   "cell_type": "code",
   "execution_count": null,
   "id": "84a4c8c8",
   "metadata": {},
   "outputs": [
    {
     "name": "stdout",
     "output_type": "stream",
     "text": [
      "[2 2 2 2 2 2 2 2 2 2 2 2 2 2 2 2 2 2 2 2 2 2 2 2 2 2 2 2 2 2 2 2 2 2 2 2 2\n",
      " 2 2 2 2 2 2 2 2 2 2 2 2 2 2 2 2 2 2 2 2 2 2 2 2 2 2 2 2 2 2 2 2 2 2 2 2 2\n",
      " 2 2 2 2 2 2 2 2 2 2 2 2 2 2 2 2 2 2 2 2 2 2 2 2 2 2 2 2 2 2 2 2 2 2 2 2 2\n",
      " 2 2 2 2 2 2 2 2 2 2 2 2 2 2 2 2 2 2 2 2 2 2 2 2 2 2 2 2 2 2 2 2 2 2 2 2 2\n",
      " 2 2 2 2 2 2 2 2 2 2 2 2 2 2 2 2 2 2 2 2 2 2 2 2 2 2 2 2 2 2 2 2 2 2 2 2 2\n",
      " 2 2 2 2 2 2 2 2 2 2 2 2 2 2 2 2 2 2 2 2 2 2 2 2 2 2 2 2 2 2 2 2 2 2 2 2 2\n",
      " 2 2 2 2 2 2 2 2 2 2 2 2 2 2 2 2 2 2 2 2 2 2 2 2 2 2 2 2 2 2 2 2 2 2 2 2 2\n",
      " 2 2 2 2 2 2 2 2 2 2 2 2 2 2 2 2 2 2 2 2 2 2 2 2 2 2 2 2 2 2 2 2 2 2 2 2 2\n",
      " 2 2 2 2 2 2 2 2 2 2 2 2 2 2 2 2 2 2 2 2 2 2 2 2 2 2 2 2 2 2 2 2 2 2 2 2 2\n",
      " 2 2 2 2 2 2 2 2 2 2 2 2 2 2 2 2 2 2 2 2 2 2 2 2 2 2 2 2 2 2 2 2 2 2 2 2 2\n",
      " 2 2 2 2 2 2 2 2 2 2 2 2 2 2 2 2 2 2 2 2 2 2 2 2 2 2 2 2 2 2 2 2 2 2 2 2 2\n",
      " 2 2 2 2 2 2 2 2 2 2 2 2 2 2 2 2 2 2 2 2 2 2 2 2 2 2 2 2 2 2 2 2 2 2 2 2 2\n",
      " 2 2 2 2 2 2 2 2 2 2 2 2 2 2 2 2 2 2 2 2 2 2 2 2 2 2 2 2 2 2 2 2 2 2 2 2 2\n",
      " 2 2 2 2 2 2 2 2 2 2 2 2 2 2 2 2 2 2 2 2 2 2 2 2 2 2 2 2 2 2 2 2 2 2 2 2 2\n",
      " 2 2 2 2 2 2 2 2 2 2 2 2 2 2 2 2 2 2 2 2 2 2 2 2 2 2 2 2 2 2 2 2 2 2 2 2 2\n",
      " 2 2 2 2 2 2 2 2 2 2 2 2 2 2 2 2 2 2 2 2 2 2 2 2 2 2 2 2 2 2 2 2 2 2 2 2 2\n",
      " 2 2 2 2 2 2 2 2 2 2 2 2 2 2 2 2 2 2 2 2 2 2 2 2 2 2 2 2 2 2 2 2 2 2 2 2 2\n",
      " 2 2 2 2 2 2 2 2 2 2 2 2 2 2 2 2 2 2 2 2 2 2 2 2 2 2 2 2 2 2 2 2 2 2 2 2 2\n",
      " 2 2 2 2 2 2 2 2 2 2 2 2 2 2 2 2 2 2 2 2 2 2 2 2 2 2 2 2 2 2 2 2 2 2 2 2 2\n",
      " 2 2 2 2 2 2 2 2 2 2 2 2 2 2 2 2 2 2 2 2 2 2 2 2 2 2 2 2 2 2 2 2 2 2 2 2 2\n",
      " 2 2 2 2 2 2 2 2 2 2 2 2 2 2 2 2 2 2 2 2 2 2 2 2 2 2 2 2 2 2 2 2 2 2 2 2 2\n",
      " 2 2 2 2 2 2 2 2 2 2 2 2 2 2 2 2 2 2 2 2 2 2 2 2 2 2 2 2 2 2 2 2 2 2 2 2 2\n",
      " 2 2 2 2 2 2 2 2 2 2 2 2 2 2 2 2 2 2 2 2 2 2 2 2 2 2 2 2 2 2 2 2 2 2 2 2 2\n",
      " 2 2 2 2 2 2 2 2 2 2 2 2 2 2 2 2 2 2 2 2 2 2 2 2 2 2 2 2 2 2 2 2 2 2 2 2 2\n",
      " 2 2 2 2 2 2 2 2 2 2 2 2 2 2 2 2 2 2 2 2 2 2 2 2 2 2 2 2 2 2 2 2 2 2 2 2 2\n",
      " 2 2 2 2 2 2 2 2 2 2 2 2 2 2 2 2 2 2 2 2 2 2 2 2 2 2 2 2 2 2 2 2 2 2 2 2 2\n",
      " 2 2 2 2 2 2 2 2]\n"
     ]
    }
   ],
   "source": [
    "print(svr_predictions)"
   ]
  },
  {
   "cell_type": "code",
   "execution_count": null,
   "id": "5a807615",
   "metadata": {},
   "outputs": [
    {
     "name": "stdout",
     "output_type": "stream",
     "text": [
      "Mean Squared Error:  80.59175257731958\n"
     ]
    }
   ],
   "source": [
    "from sklearn.metrics import mean_squared_error, mean_absolute_error, r2_score, accuracy_score\n",
    " \n",
    "\n",
    "svc_predictions_rounded = svr_predictions.round().astype(int)\n",
    "\n",
    "# Calculate accuracy\n",
    "svc_accuracy = accuracy_score(testY, svc_predictions_rounded)\n",
    "print(\"Mean Squared Error: \", mean_squared_error(testY, svc_predictions_rounded))"
   ]
  },
  {
   "cell_type": "code",
   "execution_count": null,
   "id": "14331313",
   "metadata": {},
   "outputs": [],
   "source": []
  }
 ],
 "metadata": {
  "kernelspec": {
   "display_name": "base",
   "language": "python",
   "name": "python3"
  },
  "language_info": {
   "codemirror_mode": {
    "name": "ipython",
    "version": 3
   },
   "file_extension": ".py",
   "mimetype": "text/x-python",
   "name": "python",
   "nbconvert_exporter": "python",
   "pygments_lexer": "ipython3",
   "version": "3.11.7"
  }
 },
 "nbformat": 4,
 "nbformat_minor": 5
}
